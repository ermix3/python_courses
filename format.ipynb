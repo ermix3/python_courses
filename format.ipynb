{
 "cells": [
  {
   "cell_type": "code",
   "execution_count": 6,
   "metadata": {},
   "outputs": [
    {
     "name": "stdout",
     "output_type": "stream",
     "text": [
      "two one\n",
      "two one\n",
      "1 2\n",
      "1 2\n",
      "two one\n",
      "      test\n",
      "      test\n"
     ]
    }
   ],
   "source": [
    "# old way %s(string), %d(digit), %f(floating ), %r(repr)\n",
    "print('%s %s' % ('two', 'one'))\n",
    "print('{} {}'.format('two', 'one'))  # new way [placeholders]\n",
    "\n",
    "print('%d %d' % (1, 2))      # old way\n",
    "print('{} {}'.format(1, 2))  # new way\n",
    "\n",
    "print('{1} {0}'.format('one', 'two'))  # new way {index}\n",
    "\n",
    "print('%10s' % ('test',))      # old way\n",
    "print('{:>10}'.format('test'))  # new way {padding}\n"
   ]
  }
 ],
 "metadata": {
  "interpreter": {
   "hash": "1e915f0a29dc84041eaeb02b7b1a21c440e37a87b61d44d5e84a515737dc82bc"
  },
  "kernelspec": {
   "display_name": "Python 3.9.7 64-bit ('base': conda)",
   "language": "python",
   "name": "python3"
  },
  "language_info": {
   "codemirror_mode": {
    "name": "ipython",
    "version": 3
   },
   "file_extension": ".py",
   "mimetype": "text/x-python",
   "name": "python",
   "nbconvert_exporter": "python",
   "pygments_lexer": "ipython3",
   "version": "3.10.1"
  },
  "orig_nbformat": 4
 },
 "nbformat": 4,
 "nbformat_minor": 2
}
