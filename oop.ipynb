{
 "cells": [
  {
   "cell_type": "code",
   "execution_count": 1,
   "metadata": {
    "pycharm": {
     "name": "#%%\n"
    }
   },
   "outputs": [],
   "source": [
    "# 1- polymorphism: one method can do more than one job depend status and position. len(), operator arithmitique method + example(can add, concatenate)\n",
    "# 2- inheritence\n",
    "# 3- encapsulation: access to data => public, _protected, __private\n",
    "# 4- abstraction: ABCs(Abstract Base Class) => \n",
    "# getter & setter\n",
    "# @property decorator\n",
    "class ClassName(object):        # class definition\n",
    "    def __init__(self, *args):  # constactor\n",
    "        super(ClassName, self).__init__(*args)"
   ]
  },
  {
   "cell_type": "code",
   "execution_count": null,
   "metadata": {},
   "outputs": [],
   "source": [
    "class Person:\n",
    "    pass  # An empty block\n",
    "\n",
    "\n",
    "p = Person()\n",
    "print(p)\n"
   ]
  },
  {
   "cell_type": "code",
   "execution_count": null,
   "metadata": {},
   "outputs": [],
   "source": [
    "# class with attribut\n",
    "class Person:\n",
    "    def __init__(self, name):\n",
    "        self.name = name\n",
    "    def say_hi(self):\n",
    "        print('Hello, my name is', self.name)\n",
    "\n",
    "p = Person('Swaroop')\n",
    "p.say_hi()\n",
    "# The previous 2 lines can also be written as\n",
    "# Person('Swaroop').say_hi()"
   ]
  },
  {
   "cell_type": "code",
   "execution_count": null,
   "metadata": {
    "pycharm": {
     "name": "#%%\n"
    }
   },
   "outputs": [],
   "source": [
    "class CompteBancaire:\n",
    "    # Attribut d'objet Encapsuler\n",
    "    __Num_Op_Credit = 0\n",
    "    __Num_Op_Debit = 0\n",
    "    # Attribut de class \n",
    "    Num_Comptes = 0\n",
    "\n",
    "    def __init__(self, numero, date, solde):\n",
    "        # Attribut d'objet Encapsuler\n",
    "        self.__numCompte = numero\n",
    "        self.__dateCreation = date\n",
    "        self.__solde = solde\n",
    "    \n",
    "    # getters\n",
    "    def Get_Solde(self):\n",
    "        return self.__solde\n",
    "\n",
    "    def Get_Num_Compte(self):\n",
    "        return self.__numCompte\n",
    "\n",
    "    def Get_Date_Creation(self):\n",
    "        return self.__dateCreation\n",
    "\n",
    "    # setters\n",
    "    def Set_Solde(self,value):\n",
    "        self.__solde=value\n",
    "\n",
    "    def Set_Num_Compte(self,value):\n",
    "        self.__numCompte=value\n",
    "\n",
    "    def Set_Date_Creation(self,value):\n",
    "        self.__dateCreation=value\n",
    "\n",
    "# la creation des objets\n",
    "cb1 = CompteBancaire(1, '10/01/2011', 10000)\n",
    "cb2 = CompteBancaire(2, '18/10/2015', 20000)\n",
    "cb3 = CompteBancaire(3, '11/08/2021', 30000)\n"
   ]
  },
  {
   "cell_type": "code",
   "execution_count": 2,
   "metadata": {
    "pycharm": {
     "name": "#%%\n"
    }
   },
   "outputs": [
    {
     "name": "stdout",
     "output_type": "stream",
     "text": [
      "Hello Reda\n",
      "Mr. Reda You Are M, And Your Age Is 23 Years Old.\n"
     ]
    }
   ],
   "source": [
    "class Human: # class definition\n",
    "    def __init__(self): # constactor\n",
    "        # les champs\n",
    "        self.name = 'name'\n",
    "        self.age = 'age'\n",
    "        self.sexe = 'sexe'\n",
    "    \n",
    "    def sayHi(self):\n",
    "      print(f'hello {self.name}'.title())\n",
    "    \n",
    "    def input_data(self):\n",
    "      self.name = input('enter your name: '.title())\n",
    "      self.age = int(input('enter your age: '.title()))\n",
    "      self.sexe = input('enter your sexe: '.title())\n",
    "\n",
    "    def output_data(self):\n",
    "      print(f'mr. {self.name} you are {self.sexe}, and your age is {self.age} years old.'.title())\n",
    "\n",
    "\n",
    "\n",
    "person1=Human()\n",
    "person1.input_data()\n",
    "person1.sayHi()\n",
    "person1.output_data()"
   ]
  },
  {
   "cell_type": "code",
   "execution_count": null,
   "metadata": {
    "pycharm": {
     "name": "#%%\n"
    }
   },
   "outputs": [
    {
     "name": "stdout",
     "output_type": "stream",
     "text": [
      "reda ermich\n",
      "ahmed ermich\n",
      "ali ermich\n",
      "4\n",
      "1.09\n",
      "1.09\n",
      "{'first_name': 'ahmed', 'last_name': 'ermich', 'pay': 1477}\n",
      "{'first_name': 'reda', 'last_name': 'ermich', 'pay': 1100, 'raise_amount': 1.07}\n",
      "True\n"
     ]
    }
   ],
   "source": [
    "class Employee:\n",
    "  # class variables(or property, or attribut, or champ, or field)\n",
    "  num_of_emp=0\n",
    "  raise_amount=1.05\n",
    "\n",
    "  @classmethod\n",
    "  def set_raise_amount(cls,amount):\n",
    "    cls.raise_amount=amount\n",
    "  \n",
    "  @classmethod\n",
    "  def from_string(cls,emp_str):\n",
    "    first_name, last_name,pay=emp_str.split('-')\n",
    "    return cls(first_name, last_name, pay)\n",
    "    \n",
    "  @staticmethod # like regular function\n",
    "  def is_workday(day):\n",
    "    if day.weekday()==5 or day.weekday()==6:\n",
    "      return False\n",
    "    return True\n",
    "    \n",
    "  # instance method\n",
    "  def __init__(self, first_name, last_name,pay):\n",
    "    # instance variables\n",
    "    self.first_name = first_name\n",
    "    self.last_name = last_name\n",
    "    self.pay =pay\n",
    "    \n",
    "    Employee.num_of_emp += 1\n",
    "\n",
    "  # instance method\n",
    "  def full_name(self):\n",
    "    return f'{self.first_name} {self.last_name}'\n",
    "\n",
    "  # instance method\n",
    "  def ApplyRaise(self):\n",
    "    self.pay=int(self.pay*self.raise_amount)\n",
    "\n",
    "\n",
    "emp_1 = Employee('reda', 'ermich', 1100)\n",
    "emp_2 = Employee('ahmed', 'ermich', 1477)\n",
    "emp_3 = Employee('ali', 'ermich', 2323)\n",
    "emp_str = 'med-ermich-2323'\n",
    "emp_4 = Employee.from_string(emp_str)\n",
    "\n",
    "Employee.set_raise_amount(1.7)\n",
    "emp_1.raise_amount=1.07\n",
    "emp_2.set_raise_amount(1.09)\n",
    "\n",
    "print(emp_1.full_name())\n",
    "print(emp_2.full_name())\n",
    "print(emp_3.full_name())\n",
    "print(Employee.num_of_emp)\n",
    "print(Employee.raise_amount)\n",
    "print(emp_2.raise_amount)\n",
    "print(emp_2.__dict__)\n",
    "print(emp_1.__dict__)\n",
    "\n",
    "import datetime\n",
    "my_date = datetime.date(2022,1,21)\n",
    "print(Employee.is_workday(my_date))\n"
   ]
  },
  {
   "cell_type": "code",
   "execution_count": null,
   "metadata": {
    "pycharm": {
     "is_executing": true,
     "name": "#%%\n"
    }
   },
   "outputs": [],
   "source": [
    "# 1 -> encapsulation + heritage\n",
    "class Computer:\n",
    "  def __init__(self):\n",
    "    self.__maxprice = 900\n",
    "  \n",
    "  # getters\n",
    "  def getMaxPrices(self):\n",
    "    return self.__maxprice\n",
    "\n",
    "  # setters\n",
    "  def setMaxPrice(self, price):\n",
    "    self.__maxprice = price\n",
    "\n",
    "\n",
    "c = Computer()\n",
    "\n"
   ]
  },
  {
   "cell_type": "code",
   "execution_count": null,
   "metadata": {
    "pycharm": {
     "is_executing": true,
     "name": "#%%\n"
    }
   },
   "outputs": [],
   "source": [
    "class Vehicle:\n",
    "    def __init__(self, name, max_speed, mileage,capacity):\n",
    "        self.name = name\n",
    "        self.max_speed = max_speed\n",
    "        self.mileage = mileage\n",
    "        self.capacity = capacity\n",
    "\n",
    "    def __str__(self):\n",
    "        return f'''\n",
    "        name is ===> {self.name}\n",
    "        max speed is ===> {self.max_speed}\n",
    "        capacity is ===> {self.capacity}\n",
    "    '''\n",
    "\n",
    "\n",
    "\n",
    "v1 = Vehicle(\"School Volvo\", 100, 12, 50)\n",
    "v2 = Vehicle(\"Web bolbo\", 100, 12, 50)\n",
    "print(v1)\n",
    "print(v2)\n"
   ]
  },
  {
   "cell_type": "code",
   "execution_count": 2,
   "metadata": {
    "pycharm": {
     "name": "#%%\n"
    }
   },
   "outputs": [
    {
     "ename": "TypeError",
     "evalue": "Computer.__init__() takes 1 positional argument but 2 were given",
     "output_type": "error",
     "traceback": [
      "\u001b[1;31m---------------------------------------------------------------------------\u001b[0m",
      "\u001b[1;31mTypeError\u001b[0m                                 Traceback (most recent call last)",
      "\u001b[1;32m~\\AppData\\Local\\Temp/ipykernel_17044/2527871824.py\u001b[0m in \u001b[0;36m<module>\u001b[1;34m\u001b[0m\n\u001b[0;32m     12\u001b[0m \u001b[1;33m\u001b[0m\u001b[0m\n\u001b[0;32m     13\u001b[0m \u001b[1;33m\u001b[0m\u001b[0m\n\u001b[1;32m---> 14\u001b[1;33m \u001b[0mc\u001b[0m \u001b[1;33m=\u001b[0m \u001b[0mComputer\u001b[0m\u001b[1;33m(\u001b[0m\u001b[1;36m1000\u001b[0m\u001b[1;33m)\u001b[0m\u001b[1;33m\u001b[0m\u001b[1;33m\u001b[0m\u001b[0m\n\u001b[0m\u001b[0;32m     15\u001b[0m \u001b[0mapple\u001b[0m \u001b[1;33m=\u001b[0m \u001b[0mComputer\u001b[0m\u001b[1;33m(\u001b[0m\u001b[1;36m10000\u001b[0m\u001b[1;33m)\u001b[0m\u001b[1;33m\u001b[0m\u001b[1;33m\u001b[0m\u001b[0m\n\u001b[0;32m     16\u001b[0m \u001b[0mdell\u001b[0m \u001b[1;33m=\u001b[0m \u001b[0mComputer\u001b[0m\u001b[1;33m(\u001b[0m\u001b[1;36m4000\u001b[0m\u001b[1;33m)\u001b[0m\u001b[1;33m\u001b[0m\u001b[1;33m\u001b[0m\u001b[0m\n",
      "\u001b[1;31mTypeError\u001b[0m: Computer.__init__() takes 1 positional argument but 2 were given"
     ]
    }
   ],
   "source": [
    "# 1 -> encapsulation\n",
    "class Computer:\n",
    "  def __init__(self,maxprice):\n",
    "    self.__maxprice = maxprice\n",
    "\n",
    "  def sell(self):\n",
    "    print(f'Selling Price: {self.__maxprice}')\n",
    "  \n",
    "  # \n",
    "  def setMaxPrice(self, price):\n",
    "    self.__maxprice = price\n",
    "\n",
    "\n",
    "c = Computer(300) \n",
    "# apple = Computer()\n",
    "# dell = Computer()\n",
    "# hp = Computer()\n",
    "\n",
    "# c.sell()\n",
    "\n",
    "# # change the price\n",
    "# c.__maxprice = 1000\n",
    "# c.sell()\n",
    "\n",
    "# # using setter function\n",
    "# c.setMaxPrice(1000)\n",
    "# c.sell()\n"
   ]
  },
  {
   "cell_type": "code",
   "execution_count": null,
   "metadata": {
    "pycharm": {
     "name": "#%%\n"
    }
   },
   "outputs": [],
   "source": [
    "# polymorphism\n",
    "class Parrot:\n",
    "  def fly(self):\n",
    "    print('Parrot can fly')\n",
    "\n",
    "  def swim(self):\n",
    "    print('Parrot can not swim')\n",
    "\n",
    "class Penguin:\n",
    "  def fly(self):\n",
    "    print('Penguin can not fly')\n",
    "\n",
    "  def swim(self):\n",
    "    print('Penguin can swim')\n",
    "\n",
    "# common interface\n",
    "def flying_test(bird):\n",
    "  bird.fly()\n",
    "\n",
    "#instantiate objects\n",
    "blu = Parrot()\n",
    "peggy = Penguin()\n",
    "\n",
    "# passing the object\n",
    "flying_test(blu)\n",
    "flying_test(peggy)"
   ]
  },
  {
   "cell_type": "code",
   "execution_count": null,
   "metadata": {
    "pycharm": {
     "name": "#%%\n"
    }
   },
   "outputs": [],
   "source": [
    "# with attribut\n",
    "class Parrot:\n",
    "    # class attribute\n",
    "    species = 'bird'\n",
    "\n",
    "    # instance attribute\n",
    "    def __init__(self, name, age):\n",
    "        self.name = name\n",
    "        self.age = age\n",
    "\n",
    "# instantiate the Parrot class\n",
    "blu = Parrot('Blu', 10)\n",
    "woo = Parrot('woo', 15)\n",
    "\n",
    "# access the class attributes\n",
    "print('Blu is a {}'.format(blu.__class__.species))\n",
    "print('Woo is also a {}'.format(woo.__class__.species))\n",
    "# access the instance attributes\n",
    "print('{} is {} years old'.format( blu.name, blu.age))\n",
    "print('{} is {} years old'.format( woo.name, woo.age))"
   ]
  },
  {
   "cell_type": "code",
   "execution_count": null,
   "metadata": {
    "pycharm": {
     "name": "#%%\n"
    }
   },
   "outputs": [],
   "source": [
    "# with method 1\n",
    "class Parrot:\n",
    "  # instance attributes => Constractors\n",
    "  def __init__(self, name, age):\n",
    "    self.name = name\n",
    "    self.age = age\n",
    "\n",
    "  # instance method\n",
    "  def sing(self, song):\n",
    "    return '{} sings {}'.format(self.name, song)\n",
    "\n",
    "  def dance(self):\n",
    "    return '{} is now dancing'.format(self.name)\n",
    "\n",
    "# instantiate the object\n",
    "blu = Parrot('Blu', 10)\n",
    "# call our instance methods\n",
    "print(blu.sing('Happy'))\n",
    "print(blu.dance())"
   ]
  },
  {
   "cell_type": "code",
   "execution_count": null,
   "metadata": {
    "pycharm": {
     "name": "#%%\n"
    }
   },
   "outputs": [
    {
     "name": "stdout",
     "output_type": "stream",
     "text": [
      "Bird is ready\n",
      "Penguin is ready, and song: tiw..  Tiw..\n",
      "Penguin\n",
      "Swim faster\n",
      "Run faster\n"
     ]
    }
   ],
   "source": [
    "# Inheritance 1\n",
    "class Bird:\n",
    "\n",
    "    def __init__(self):\n",
    "        print('Bird is ready')\n",
    "\n",
    "    def whoisThis(self):\n",
    "        print('Bird')\n",
    "\n",
    "    def swim(self):\n",
    "        print('Swim faster')\n",
    "\n",
    "# child class\n",
    "class Penguin(Bird):\n",
    "\n",
    "    def __init__(self,song):\n",
    "        # call super() function\n",
    "        super().__init__()\n",
    "        self.song = song\n",
    "        print(f'Penguin is ready, and song: {song}')\n",
    "\n",
    "    def whoisThis(self):\n",
    "        print('Penguin')\n",
    "\n",
    "    def run(self):\n",
    "        print('Run faster')\n",
    "\n",
    "\n",
    "peggy = Penguin('tiw..  Tiw..')\n",
    "peggy.whoisThis()\n",
    "peggy.swim()\n",
    "peggy.run()\n"
   ]
  },
  {
   "cell_type": "code",
   "execution_count": null,
   "metadata": {
    "pycharm": {
     "name": "#%%\n"
    }
   },
   "outputs": [
    {
     "name": "stdout",
     "output_type": "stream",
     "text": [
      "(Initialized SchoolMember: Mrs. Shrividya)\n",
      "(Initialized Teacher: Mrs. Shrividya)\n",
      "(Initialized SchoolMember: Swaroop)\n",
      "(Initialized Student: Swaroop)\n",
      "\n",
      "Name:Mrs. Shrividya Age:40 Salary: 30000\n",
      "Name:Swaroop Age:25 Marks: 75\n"
     ]
    }
   ],
   "source": [
    "# Inheretence 2\n",
    "class SchoolMember:\n",
    "    '''Represents any school member.'''\n",
    "\n",
    "    def __init__(self, name, age):\n",
    "        self.name = name\n",
    "        self.age = age\n",
    "        print('(Initialized SchoolMember: {})'.format(self.name))\n",
    "\n",
    "    def tell(self):\n",
    "        '''Tell my details.'''\n",
    "        print('Name:{} Age:{}'.format(self.name, self.age), end=' ')\n",
    "\n",
    "\n",
    "class Teacher(SchoolMember):\n",
    "    '''Represents a teacher.'''\n",
    "\n",
    "    def __init__(self, name, age, salary):\n",
    "        SchoolMember.__init__(self, name, age)\n",
    "        self.salary = salary\n",
    "        print('(Initialized Teacher: {})'.format(self.name))\n",
    "\n",
    "    def tell(self):\n",
    "        SchoolMember.tell(self)\n",
    "        print('Salary: {:d}'.format(self.salary))\n",
    "\n",
    "\n",
    "class Student(SchoolMember):\n",
    "    '''Represents a student.'''\n",
    "\n",
    "    def __init__(self, name, age, marks):\n",
    "        SchoolMember.__init__(self, name, age)\n",
    "        self.marks = marks\n",
    "        print('(Initialized Student: {})'.format(self.name))\n",
    "\n",
    "    def tell(self):\n",
    "        SchoolMember.tell(self)\n",
    "        print('Marks: {:d}'.format(self.marks))\n",
    "\n",
    "\n",
    "t = Teacher('Mrs. Shrividya', 40, 30000)\n",
    "s = Student('Swaroop', 25, 75)\n",
    "# prints a blank line\n",
    "print()\n",
    "members = [t, s]\n",
    "for member in members:\n",
    "    # Works for both Teachers and Students\n",
    "    member.tell()\n"
   ]
  },
  {
   "cell_type": "code",
   "execution_count": null,
   "metadata": {
    "pycharm": {
     "name": "#%%\n"
    }
   },
   "outputs": [
    {
     "name": "stdout",
     "output_type": "stream",
     "text": [
      "{'student_0': 'wewe;ererer;32', 'student_1': 'dssfsf;sdsd;24'}\n",
      "done!\n"
     ]
    }
   ],
   "source": [
    "class Student:\n",
    "    # Class property\n",
    "    stdnt_count = 0\n",
    "    \n",
    "    # class method\n",
    "    @classmethod\n",
    "    def student_count(cls):\n",
    "        print(f'we have {cls.stdnt_count}student')\n",
    "    \n",
    "    # static method\n",
    "    @staticmethod\n",
    "    def say_hello():\n",
    "        print(\"Hello World!\")\n",
    "    \n",
    "    # instance property\n",
    "    def __init__(self, first_name, last_name, age):\n",
    "        self.f_name = first_name\n",
    "        self.l_name = last_name\n",
    "        self.age = age\n",
    "    \n",
    "    # instance method\n",
    "    def all_info(self):\n",
    "        return f'{self.f_name};{self.l_name};{self.age}'\n",
    "\n",
    "students={}\n",
    "for i in range(int(input('enter your student do you want to record:\\n'.title()))):\n",
    "    student = Student(\n",
    "        input('enter your student first_name:\\n'.title()),\n",
    "        input('enter your student last_name:\\n'.title()), \n",
    "        int(input('enter your student age:\\n'.title())))\n",
    "    students[f'student_{i+1}']= student.all_info()\n",
    "print(students)\n",
    "# student_1 = Student('reda', 'ermich', 23)\n",
    "# student_2 = Student('ali', 'ermich', 13)\n",
    "# student_3 = Student('nabil', 'sayd', 13)\n",
    "# with open('student.txt', 'w') as file:\n",
    "#     file.write(student_1.all_info()+'\\n')\n",
    "#     file.write(student_2.all_info()+'\\n')\n",
    "#     file.write(student_3.all_info()+'\\n')\n",
    "    \n",
    "# print(f'{student_1.all_info()}, good to see that.')\n",
    "# print(f'{student_2.all_info()}, good to see that.')\n",
    "# print(f'{student_3.all_info()}, good to see that.')\n",
    "# first_name = input('enter first name:'.title())\n",
    "# last_name = input('enter last name:'.title())\n",
    "# age = int(input('enter age:'.title()))\n",
    "# student_1 = Student(first_name, last_name, age)\n",
    "# print(student_1)\n",
    "# print(dir(Student))\n",
    "# n = int(input('enter how many etudiant do you want to save the data?'.title()))\n",
    "# for i in range(n):\n",
    "#     student = Student(input('enter first name: '), input(\n",
    "#         'enter last name: '), int(input('enter age: ')))\n",
    "#     lst = [student.f_name, student.l_name, f'{student.age}']\n",
    "#     with open('concours.txt', 'a') as f:\n",
    "#         f.write(','.join(lst))\n",
    "#         f.write('\\n')\n",
    "print('done!')\n"
   ]
  },
  {
   "cell_type": "code",
   "execution_count": null,
   "metadata": {
    "pycharm": {
     "name": "#%%\n"
    }
   },
   "outputs": [],
   "source": [
    "class Dog(): \n",
    "  \"\"\"Represent a dog.\"\"\" \n",
    "  def __init__(self, name): \n",
    "    \"\"\"Initialize dog object.\"\"\" \n",
    "    self.name = name \n",
    "  def sit(self): \n",
    "    \"\"\"Simulate sitting.\"\"\" \n",
    "    print(self.name + \" is sitting.\") \n",
    "\n",
    "my_dog = Dog('Peso') \n",
    "print(my_dog.name + \" is a great dog!\") \n",
    "my_dog.sit()\n",
    "\n",
    "#  inheritance \n",
    "class SARDog(Dog): \n",
    "  \"\"\"Represent a search dog.\"\"\" \n",
    "  def __init__(self, name): \n",
    "    \"\"\"Initialize the sardog.\"\"\" \n",
    "    super().__init__(name)\n",
    "  def search(self): \n",
    "      \"\"\"Simulate searching.\"\"\" \n",
    "      print(self.name + \" is searching.\") \n",
    "\n",
    "my_dog = SARDog('Willie') \n",
    "print(my_dog.name + \" is a search dog.\") \n",
    "my_dog.sit() \n",
    "my_dog.search()"
   ]
  },
  {
   "cell_type": "code",
   "execution_count": 83,
   "metadata": {
    "pycharm": {
     "name": "#%%\n"
    }
   },
   "outputs": [
    {
     "name": "stdout",
     "output_type": "stream",
     "text": [
      "New value assigned.\n",
      "delete birth!\n"
     ]
    }
   ],
   "source": [
    "# OPP: Encapsulation, Abstraction, Inheritance, Polymorphism.\n",
    "class Human:\n",
    "    def __init__(self, Name, Birth):\n",
    "        self.Name = Name\n",
    "        self.__Birth = Birth\n",
    "        self.__Max_age = 100  # private parameter\n",
    "    \n",
    "    # getter method (get a value)\n",
    "    @property\n",
    "    def Birth(self):\n",
    "        return self.__Birth\n",
    "\n",
    "    # setter method (set a value)\n",
    "    @Birth.setter\n",
    "    def Birth(self, value):\n",
    "        if 1980 < value < 2000:\n",
    "            self.__Birth = value\n",
    "            print(\"New value assigned.\")\n",
    "        else:\n",
    "            print('Enter a valid birth year')\n",
    "    \n",
    "    # deleter method (set a value)\n",
    "    @Birth.deleter\n",
    "    def Birth(self):\n",
    "        print('delete birth!')\n",
    "        self.__Birth = None\n",
    "    \n",
    "    def Calc_age(self):\n",
    "        Age = 2021-self.birth\n",
    "        print('your age is:', Age)\n",
    "    \n",
    "\n",
    "med = Human('med', 1999)\n",
    "med.Birth\n",
    "med.Birth = 1998\n",
    "med.Birth\n",
    "del med.Birth\n"
   ]
  },
  {
   "cell_type": "code",
   "execution_count": null,
   "metadata": {
    "pycharm": {
     "name": "#%%\n"
    }
   },
   "outputs": [],
   "source": [
    "# projet one:\n",
    "class My_int_error(Exception):\n",
    "    def __init__(self, if_obj, element):\n",
    "        self.IF_obj = if_obj\n",
    "        self.element = element\n",
    "\n",
    "    def __str__(self):\n",
    "        return self.element + 'is not an integer.'\n",
    "\n",
    "\n",
    "class Ilist(list):\n",
    "    def append(self, element):\n",
    "        if not isinstance(element, (int)):\n",
    "            raise My_int_error(self, element)\n",
    "        return super(Ilist, self).append(element)\n",
    "\n",
    "\n",
    "My_list = Ilist()\n",
    "My_list.append(44)\n",
    "My_list.append(300)\n",
    "My_list.append('300')\n",
    "My_list.append('10')\n",
    "\n",
    "print(My_list)\n"
   ]
  },
  {
   "cell_type": "code",
   "execution_count": 4,
   "metadata": {
    "pycharm": {
     "name": "#%%\n"
    }
   },
   "outputs": [
    {
     "name": "stdout",
     "output_type": "stream",
     "text": [
      "2022 - 1998 = 24 ans\n",
      "0\n"
     ]
    }
   ],
   "source": [
    "# 1- Encapsulation\n",
    "class Human:\n",
    "    current_year=2022\n",
    "    def __init__(self, Name, Birth):\n",
    "        self.Name = Name\n",
    "        self.__Birth = Birth  # for protect variable Birth.\n",
    "        self.__Max_age = 100  # for protect variable Max_age.\n",
    "    # getter method (get a value)\n",
    "\n",
    "    @property  # decorator\n",
    "    def Birth(self):\n",
    "        return self.__Birth\n",
    "\n",
    "    # setter method (set a value)\n",
    "    @Birth.setter  # decorator\n",
    "    def Birth(self, value):\n",
    "        if 1980 < value < 2000:\n",
    "            self.__Birth = value\n",
    "            print(\"New value assigned.\")\n",
    "        else:\n",
    "            print('Enter a valid birth year')\n",
    "    def older(self):\n",
    "        if self.current_year-self.__Birth > self.__Max_age:\n",
    "            return 'you are older'\n",
    "        return f'{self.current_year} - {self.__Birth} = {self.current_year-self.__Birth} ans'\n",
    "\n",
    "person_one = Human('med', 1998)\n",
    "# person_one = Human('med', 1900)\n",
    "# person_one.Birth = 1997\n",
    "print(person_one.older())\n",
    "\n",
    "\n",
    "def concatenate(*args):\n",
    "    t = ''\n",
    "    return args.index('I')\n",
    "    # for i in args:\n",
    "    #     t += i if args.index(i) == 0 else t += '-'+i\n",
    "    # return t\n",
    "\n",
    "\n",
    "print(concatenate(\"I\", \"love\", \"Python\", \"!\"))\n"
   ]
  },
  {
   "cell_type": "code",
   "execution_count": 67,
   "metadata": {
    "pycharm": {
     "name": "#%%\n"
    }
   },
   "outputs": [
    {
     "name": "stdout",
     "output_type": "stream",
     "text": [
      "yes i'm human\n",
      "Reda, Yes I'M Men.\n",
      "Hanane, Yes I'M Women.\n"
     ]
    }
   ],
   "source": [
    "# 3- Inheritance\n",
    "# single Inheritance\n",
    "# Multilevel Inheritance\n",
    "class Human:\n",
    "    def __init__(self, Name):\n",
    "        self.Name = Name\n",
    "        self.independent = True\n",
    "\n",
    "    def talk(self):\n",
    "        print('yes i\\'m human')\n",
    "\n",
    "\n",
    "class Women(Human):\n",
    "    def __init__(self, Name):\n",
    "        # Human.__init__(self,Name)\n",
    "        super().__init__(Name)\n",
    "        self.sex = 'Female'\n",
    "\n",
    "    def talk(self):  # method overriden\n",
    "        print(f'{self.Name}, yes i\\'m women.'.title())\n",
    "\n",
    "# class Men(Human):\n",
    "#   def talk(self): # method overriden\n",
    "#     print('yes i\\'m men')\n",
    "\n",
    "# class Men(Human):\n",
    "#   def talk(self): # method overriden\n",
    "#     super().talk() # Human.talk(self)\n",
    "#     print('yes i\\'m men')\n",
    "\n",
    "\n",
    "class Men(Human):\n",
    "\n",
    "    def __init__(self, Name):\n",
    "        super().__init__(Name)\n",
    "        self.sex = 'Male'\n",
    "\n",
    "    def talk(self):  # method overriden\n",
    "        super().talk()  # Human.talk(self)\n",
    "        print(f'{self.Name}, yes i\\'m men.'.title())\n",
    "\n",
    "\n",
    "person1 = Men('reda')\n",
    "person2 = Women('Hanane')\n",
    "\n",
    "person1.talk()\n",
    "person2.talk()\n",
    "\n",
    "# Multilevel inh.\n",
    "\n",
    "\n",
    "class Son(Men, Women):\n",
    "    pass\n",
    "\n",
    "\n",
    "class Daughter(Women, Men):\n",
    "    pass\n"
   ]
  },
  {
   "cell_type": "code",
   "execution_count": null,
   "metadata": {
    "pycharm": {
     "name": "#%%\n"
    }
   },
   "outputs": [],
   "source": [
    "# 4- Polymorphism\n",
    "class Language:\n",
    "  def __init__(self,name):\n",
    "    self.name=name\n",
    "\n",
    "class Arabic(Language):\n",
    "    def Say_hi():\n",
    "        print('Arbic hi!')\n",
    "\n",
    "\n",
    "class Francais(Language):\n",
    "    def Say_hi():\n",
    "        print('Francais hi!')\n",
    "\n",
    "\n",
    "class English(Language):\n",
    "    def Say_hi():\n",
    "        print('English hi!')\n",
    "\n",
    "\n",
    "def Greet(lang):\n",
    "    lang.Say_hi()\n",
    "\n",
    "\n",
    "Greet(Arabic)\n",
    "Greet(Francais)\n",
    "Greet(English)\n"
   ]
  },
  {
   "cell_type": "code",
   "execution_count": null,
   "metadata": {
    "pycharm": {
     "name": "#%%\n"
    }
   },
   "outputs": [],
   "source": [
    "# projet one:\n",
    "class Parrot:\n",
    "\n",
    "    def fly(self):\n",
    "        print('Parrot can fly')\n",
    "\n",
    "    def swim(self):\n",
    "        print('Parrot can not swim')\n",
    "\n",
    "\n",
    "class Penguin:\n",
    "\n",
    "    def fly(self):\n",
    "        print('Penguin can not fly')\n",
    "\n",
    "    def swim(self):\n",
    "        print('Penguin can swim')\n",
    "\n",
    "# common interface\n",
    "\n",
    "\n",
    "def flying_test(bird):\n",
    "    bird.fly()\n",
    "\n",
    "\n",
    "# instantiate objects\n",
    "blu = Parrot()\n",
    "peggy = Penguin()\n",
    "\n",
    "# passing the object\n",
    "flying_test(blu)\n",
    "flying_test(peggy)\n"
   ]
  },
  {
   "cell_type": "code",
   "execution_count": null,
   "metadata": {
    "pycharm": {
     "name": "#%%\n"
    }
   },
   "outputs": [],
   "source": [
    "class Book:\n",
    "  def __init__(self, title, author, pages, chapters):\n",
    "      self.title=title\n",
    "      self.author=author\n",
    "      self.pages=pages\n",
    "      self.chapters=chapters\n",
    "\n",
    "class Song:\n",
    "  def __init__(self, title, artist, duration):\n",
    "    self.title=title\n",
    "    self.artist=artist\n",
    "    self.duration=duration"
   ]
  },
  {
   "cell_type": "code",
   "execution_count": 23,
   "metadata": {
    "pycharm": {
     "name": "#%%\n"
    }
   },
   "outputs": [
    {
     "name": "stdout",
     "output_type": "stream",
     "text": [
      "Orange&Apple (3.5L)\n"
     ]
    }
   ],
   "source": [
    "class Juice:\n",
    "    def __init__(self, name, capacity):\n",
    "        self.name = name\n",
    "        self.capacity = capacity\n",
    "\n",
    "    def __str__(self):\n",
    "        return (self.name + ' ('+str(self.capacity)+'L)')\n",
    "\n",
    "    def  __add__(self,other):\n",
    "        return Juice(f'{self.name}&{other.name}',f'{self.capacity+other.capacity}')\n",
    "        \n",
    "        \n",
    "\n",
    "a = Juice('Orange', 1.5)\n",
    "b = Juice('Apple', 2.0)\n",
    "\n",
    "result = a + b\n",
    "print(result)"
   ]
  },
  {
   "cell_type": "code",
   "execution_count": null,
   "metadata": {
    "pycharm": {
     "name": "#%%\n"
    }
   },
   "outputs": [],
   "source": [
    "class SmartPlug:\n",
    "    \"\"\"Prise intelligente : connecte les appareils.\"\"\"\n",
    "\n",
    "    def __init__(self):\n",
    "        \"\"\"Initialise la liste d'appareils.\"\"\"\n",
    "        self.devices = []\n",
    "\n",
    "    def connect(self, device):\n",
    "        \"\"\"Connecte un appareil à la prise.\"\"\"\n",
    "        self.devices.append(device)\n",
    "\n",
    "    def display_connected_devices(self):\n",
    "        \"\"\"Affiche les appareils connectés.\"\"\"\n",
    "        print(\"Affichage des appareils connectés...\")\n",
    "\n",
    "        if not self.devices:\n",
    "            print(\"Aucun appareil n'est connecté !\")\n",
    "            return\n",
    "\n",
    "        for device in self.devices:\n",
    "            print(f\"-> {device.name}\")\n",
    "        print(\"Fin de l'affichage.\")\n",
    "\n",
    "\n",
    "class Device:\n",
    "    \"\"\"Appareil électronique à connecter.\"\"\"\n",
    "\n",
    "    def __init__(self, name):\n",
    "        \"\"\"Initialise le nom.\"\"\"\n",
    "        self.name = name\n"
   ]
  }
 ],
 "metadata": {
  "interpreter": {
   "hash": "9bf2ca0f4a7adc3ce2f237ca763c1538d3ef289a4e7face3612a01cdae9f6807"
  },
  "kernelspec": {
   "display_name": "Python 3.10.0 64-bit",
   "language": "python",
   "name": "python3"
  },
  "language_info": {
   "codemirror_mode": {
    "name": "ipython",
    "version": 3
   },
   "file_extension": ".py",
   "mimetype": "text/x-python",
   "name": "python",
   "nbconvert_exporter": "python",
   "pygments_lexer": "ipython3",
   "version": "3.10.2"
  },
  "orig_nbformat": 4
 },
 "nbformat": 4,
 "nbformat_minor": 2
}
