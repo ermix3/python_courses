{
 "cells": [
  {
   "cell_type": "code",
   "execution_count": null,
   "metadata": {},
   "outputs": [],
   "source": [
    "# Empty list\n",
    "lst=[]\n",
    "lst_1=list()\n",
    "\n",
    "# Empty tuple\n",
    "tpl=()\n",
    "tpl=tuple()\n",
    "\n",
    "# Empty set\n",
    "st=set() # st={} is dictionary\n",
    "\n",
    "# Empty dict\n",
    "dct={}\n",
    "dct_1=dict()\n"
   ]
  },
  {
   "cell_type": "markdown",
   "metadata": {},
   "source": [
    "## Tuples"
   ]
  },
  {
   "cell_type": "code",
   "execution_count": 39,
   "metadata": {},
   "outputs": [
    {
     "name": "stdout",
     "output_type": "stream",
     "text": [
      "['__add__', '__class__', '__class_getitem__', '__contains__', '__delattr__', '__dir__', '__doc__', '__eq__', '__format__', '__ge__', '__getattribute__', '__getitem__', '__getnewargs__', '__gt__', '__hash__', '__init__', '__init_subclass__', '__iter__', '__le__', '__len__', '__lt__', '__mul__', '__ne__', '__new__', '__reduce__', '__reduce_ex__', '__repr__', '__rmul__', '__setattr__', '__sizeof__', '__str__', '__subclasshook__', 'count', 'index']\n"
     ]
    }
   ],
   "source": [
    "print(dir(tuple))\n",
    "# print(help(tuple))"
   ]
  },
  {
   "cell_type": "code",
   "execution_count": null,
   "metadata": {},
   "outputs": [],
   "source": [
    "# tuple est un objet\n",
    "tpl = (1,3,5,8)\n",
    "tpl2 = tuple([1,3,5,8])\n",
    "tpl3 = tuple('hello world'.title())\n",
    "tpl4 = tuple({1, 3, 5, 8})\n",
    "tpl5 = tuple((1,2,3) for i in range(3))\n",
    "tpl6 = tpl3 + tpl2  # heterogenes\n",
    "tpl7 = tuple(i for i in range(3))\n",
    "print(tpl)\n",
    "# tpl[0]='hi'.capitalize() # immutable\n",
    "print(tpl3)\n",
    "print(tpl*2) # replication(duplicate)\n",
    "print(tpl[2])\n",
    "print(tpl[-2])\n",
    "print(tpl[1:2])\n",
    "print(tpl[1:])\n",
    "print(len(tpl))\n",
    "print(tpl4)\n",
    "print(tpl5)\n",
    "print(tpl5[1][2])\n",
    "print(tpl6)\n",
    "print(tpl7)\n",
    "print(tpl7[::-1]) # sort inverse\n",
    "# method tuple >>> count(), index()\n",
    "print(tpl7.index(2))\n",
    "print(tpl7.count(1))\n",
    "print(3 in tpl4)\n"
   ]
  },
  {
   "cell_type": "markdown",
   "metadata": {},
   "source": [
    "## Lists"
   ]
  },
  {
   "cell_type": "code",
   "execution_count": 42,
   "metadata": {},
   "outputs": [
    {
     "name": "stdout",
     "output_type": "stream",
     "text": [
      "['__add__', '__class__', '__class_getitem__', '__contains__', '__delattr__', '__delitem__', '__dir__', '__doc__', '__eq__', '__format__', '__ge__', '__getattribute__', '__getitem__', '__gt__', '__hash__', '__iadd__', '__imul__', '__init__', '__init_subclass__', '__iter__', '__le__', '__len__', '__lt__', '__mul__', '__ne__', '__new__', '__reduce__', '__reduce_ex__', '__repr__', '__reversed__', '__rmul__', '__setattr__', '__setitem__', '__sizeof__', '__str__', '__subclasshook__', 'append', 'clear', 'copy', 'count', 'extend', 'index', 'insert', 'pop', 'remove', 'reverse', 'sort']\n"
     ]
    }
   ],
   "source": [
    "print(dir(list))\n",
    "# print(help(list))"
   ]
  },
  {
   "cell_type": "code",
   "execution_count": null,
   "metadata": {},
   "outputs": [],
   "source": [
    "lst=[2,4,5,'reda',True,(1,2),{6,5},[3,7,9]]\n",
    "lst1=list((1,2,3))\n",
    "lst2=list({4,6,7})\n",
    "lst3=list('my name is reda'.title())\n",
    "lst4=[i*i for i in range(9) if i % 3 != 0] # list comrehensions\n",
    "lst5 = [i//i if i % 3 != 0 else i for i in range(1,13)]\n",
    "print(lst)\n",
    "lst[0]='hi'.capitalize()\n",
    "print(lst) \n",
    "print(len(lst3))\n",
    "print(lst[3])\n",
    "print(lst[5:])\n",
    "lst.append(3)\n",
    "lst.insert(3,'2')\n",
    "del lst[1]\n",
    "lst.remove('reda')\n",
    "print(lst.pop())\n",
    "print(lst.reverse()) # or lst[::-1]\n",
    "print(lst)\n",
    "lst1.extend(lst2)\n",
    "print(lst1)\n",
    "print(lst5)\n",
    "print(lst5.count(1))\n",
    "lst6 = lst5 # copy with reference\n",
    "lst7=lst5.copy()\n",
    "lst8=lst5[:]\n",
    "# list method: append insert len copy count index pop remove del pop sort reverse extend \n"
   ]
  },
  {
   "cell_type": "markdown",
   "metadata": {},
   "source": [
    "## String"
   ]
  },
  {
   "cell_type": "code",
   "execution_count": 46,
   "metadata": {},
   "outputs": [
    {
     "name": "stdout",
     "output_type": "stream",
     "text": [
      "['__add__', '__class__', '__contains__', '__delattr__', '__dir__', '__doc__', '__eq__', '__format__', '__ge__', '__getattribute__', '__getitem__', '__getnewargs__', '__gt__', '__hash__', '__init__', '__init_subclass__', '__iter__', '__le__', '__len__', '__lt__', '__mod__', '__mul__', '__ne__', '__new__', '__reduce__', '__reduce_ex__', '__repr__', '__rmod__', '__rmul__', '__setattr__', '__sizeof__', '__str__', '__subclasshook__', 'capitalize', 'casefold', 'center', 'count', 'encode', 'endswith', 'expandtabs', 'find', 'format', 'format_map', 'index', 'isalnum', 'isalpha', 'isascii', 'isdecimal', 'isdigit', 'isidentifier', 'islower', 'isnumeric', 'isprintable', 'isspace', 'istitle', 'isupper', 'join', 'ljust', 'lower', 'lstrip', 'maketrans', 'partition', 'removeprefix', 'removesuffix', 'replace', 'rfind', 'rindex', 'rjust', 'rpartition', 'rsplit', 'rstrip', 'split', 'splitlines', 'startswith', 'strip', 'swapcase', 'title', 'translate', 'upper', 'zfill']\n"
     ]
    }
   ],
   "source": [
    "# Note: All string methods returns new values. They do not change the original string.\n",
    "print(dir(str))\n",
    "# print(help(str))\n"
   ]
  },
  {
   "cell_type": "code",
   "execution_count": null,
   "metadata": {},
   "outputs": [],
   "source": [
    "txt='hello dear'\n",
    "print(txt)\n",
    "# txt[2]='b'  # objet immutable \n",
    "print(txt[3])\n",
    "print(txt[2:9])  # slice\n",
    "print(txt[::-1]) # reverse\n",
    "print(len(txt))\n",
    "print(txt.count('e'))\n",
    "print(txt.index('d'))\n",
    "txt2=txt.replace('dear', 'reda'.capitalize())\n",
    "print(txt2)\n",
    "txt3=txt.split()  # return list\n",
    "print(txt3)\n",
    "txt4=','.join(txt3) # return string\n",
    "print(txt4)\n"
   ]
  },
  {
   "cell_type": "markdown",
   "metadata": {},
   "source": [
    "## Dictionnaires"
   ]
  },
  {
   "cell_type": "code",
   "execution_count": 48,
   "metadata": {},
   "outputs": [
    {
     "name": "stdout",
     "output_type": "stream",
     "text": [
      "['__class__', '__class_getitem__', '__contains__', '__delattr__', '__delitem__', '__dir__', '__doc__', '__eq__', '__format__', '__ge__', '__getattribute__', '__getitem__', '__gt__', '__hash__', '__init__', '__init_subclass__', '__ior__', '__iter__', '__le__', '__len__', '__lt__', '__ne__', '__new__', '__or__', '__reduce__', '__reduce_ex__', '__repr__', '__reversed__', '__ror__', '__setattr__', '__setitem__', '__sizeof__', '__str__', '__subclasshook__', 'clear', 'copy', 'fromkeys', 'get', 'items', 'keys', 'pop', 'popitem', 'setdefault', 'update', 'values']\n"
     ]
    }
   ],
   "source": [
    "print(dir(dict))\n",
    "# print(help(dict))"
   ]
  },
  {
   "cell_type": "code",
   "execution_count": null,
   "metadata": {},
   "outputs": [],
   "source": [
    "from pprint import pprint\n",
    "dct = {'helium':2, 'neon': 10, 'argon': 18, 'krypton' : 36, 'xenon' : 54, 'radon' : 86}\n",
    "dct1 = dict(helium = 2, neon = 10, argon = 18,krypton=36,xenon=54,radon=86)\n",
    "pprint(dct)\n",
    "pprint(dct1)\n",
    "dct1['uuu'] = 118 # add\n",
    "dct1['none'] = 1\n",
    "pprint(dct1)\n",
    "dct1.update({'null': 0, 'none': 0}) # update\n",
    "pprint(dct1['neon'])\n",
    "pprint(dct1.get('xneon','doesn\\'t exist.'))\n",
    "pprint(dct1.items())\n",
    "pprint(list(dct1.items()))\n",
    "pprint(dct1.keys())\n",
    "pprint(list(dct1.keys()))\n",
    "pprint(dct1.values())\n",
    "pprint(list(dct1.values()))\n",
    "del dct1['none']\n",
    "# diction. method: update() setdefault() get() fromkeys() keys() values() items() pop() popitem() clear()  copy() "
   ]
  },
  {
   "cell_type": "code",
   "execution_count": 37,
   "metadata": {},
   "outputs": [
    {
     "name": "stdout",
     "output_type": "stream",
     "text": [
      "{1: 'odd',\n",
      " 2: 'even',\n",
      " 3: 'odd',\n",
      " 4: 'even',\n",
      " 5: 'odd',\n",
      " 6: 'even',\n",
      " 7: 'odd',\n",
      " 8: 'even',\n",
      " 9: 'odd',\n",
      " 10: 'even',\n",
      " 11: 'odd'}\n",
      "1 = odd\n",
      "2 = even\n",
      "3 = odd\n",
      "4 = even\n",
      "5 = odd\n",
      "6 = even\n",
      "7 = odd\n",
      "8 = even\n",
      "9 = odd\n",
      "10 = even\n",
      "11 = odd\n"
     ]
    }
   ],
   "source": [
    "from pprint import pprint\n",
    "d_d = {i: 'even' if i % 2 == 0 else 'odd' for i in range(1, 12)}\n",
    "\n",
    "pprint(d_d)\n",
    "for i in d_d:\n",
    "  print(i,'=',d_d[i])\n"
   ]
  },
  {
   "cell_type": "markdown",
   "metadata": {},
   "source": [
    "## Sets"
   ]
  },
  {
   "cell_type": "code",
   "execution_count": 51,
   "metadata": {},
   "outputs": [
    {
     "name": "stdout",
     "output_type": "stream",
     "text": [
      "['__and__', '__class__', '__class_getitem__', '__contains__', '__delattr__', '__dir__', '__doc__', '__eq__', '__format__', '__ge__', '__getattribute__', '__gt__', '__hash__', '__iand__', '__init__', '__init_subclass__', '__ior__', '__isub__', '__iter__', '__ixor__', '__le__', '__len__', '__lt__', '__ne__', '__new__', '__or__', '__rand__', '__reduce__', '__reduce_ex__', '__repr__', '__ror__', '__rsub__', '__rxor__', '__setattr__', '__sizeof__', '__str__', '__sub__', '__subclasshook__', '__xor__', 'add', 'clear', 'copy', 'difference', 'difference_update', 'discard', 'intersection', 'intersection_update', 'isdisjoint', 'issubset', 'issuperset', 'pop', 'remove', 'symmetric_difference', 'symmetric_difference_update', 'union', 'update']\n"
     ]
    }
   ],
   "source": [
    "print(dir(set))\n",
    "# print(help(set))"
   ]
  },
  {
   "cell_type": "code",
   "execution_count": null,
   "metadata": {},
   "outputs": [],
   "source": [
    "# dict. method:  add() upadte() pop() clear() discard() remove() copy() union() difference() difference_update()  intersection() intersection_update() isdisjoint() issubset() issuperset()  symmetric_difference() symmetric_difference_update() \n",
    "st={1,2,3}\n",
    "st1=set([1,2,3])\n",
    "st2=set((1,2,3))\n",
    "st3=set('be carefull')\n",
    "st4={i*10 for i in range(4)}\n",
    "st5=st3.union(st4)\n",
    "print(st)\n",
    "st.add('yes')\n",
    "st.update('yes')\n",
    "print(st)\n",
    "print(st1)\n",
    "print(st2)\n",
    "print(st3)\n",
    "print(st4)\n",
    "print(st5)"
   ]
  },
  {
   "cell_type": "code",
   "execution_count": null,
   "metadata": {},
   "outputs": [],
   "source": [
    "a = list(range(1,21))\n",
    "print(a)\n",
    "b = [x for x in a if x % 2 != 0 and x % x == 0 and x % 1 == 0 or x==2]\n",
    "print(b)"
   ]
  },
  {
   "cell_type": "code",
   "execution_count": 16,
   "metadata": {},
   "outputs": [
    {
     "name": "stdout",
     "output_type": "stream",
     "text": [
      "<class 'collections.Counter'>\n",
      "Counter({'B': 5, 'A': 3, 'C': 2})\n",
      "dict_keys(['A', 'C'])\n"
     ]
    }
   ],
   "source": [
    "# A Python program to show different\n",
    "# ways to create Counter\n",
    "from collections import Counter\n",
    "   \n",
    "# With sequence of items \n",
    "d = ['B', 'B', 'A', 'B', 'C', 'A', 'B', 'B', 'A', 'C']\n",
    "dd = Counter(d)\n",
    "print(type(dd))\n",
    "print(dd)\n",
    "dd.pop('B')\n",
    "print(dd.keys())\n",
    "\n",
    "# with dictionary\n",
    "# print(Counter({'A':3, 'B':5, 'C':2}))\n",
    "\n",
    "# with keyword arguments\n",
    "# print(dict(Counter(A=3, B=5, C=2)))"
   ]
  },
  {
   "cell_type": "code",
   "execution_count": 1,
   "metadata": {},
   "outputs": [
    {
     "name": "stdout",
     "output_type": "stream",
     "text": [
      "{'u', 'i', 'l', 'a', 's', 'c', 'n', 'g', 'd', ' ', 'p', 'm', 'e', 'o', 't', 'r'}\n",
      "{' ': 7,\n",
      " 'a': 2,\n",
      " 'c': 3,\n",
      " 'd': 2,\n",
      " 'e': 5,\n",
      " 'g': 1,\n",
      " 'i': 6,\n",
      " 'l': 3,\n",
      " 'm': 3,\n",
      " 'n': 2,\n",
      " 'o': 4,\n",
      " 'p': 2,\n",
      " 'r': 3,\n",
      " 's': 4,\n",
      " 't': 5,\n",
      " 'u': 2}\n"
     ]
    }
   ],
   "source": [
    "from pprint import pprint\n",
    "\n",
    "paragraph = 'lorem ipsum dolor sit amet consectetur adipiscing elit'\n",
    "letters = set(paragraph)\n",
    "letter_count = {i: paragraph.count(i) for i in letters}\n",
    "pprint(letters)\n",
    "pprint(letter_count)\n"
   ]
  },
  {
   "cell_type": "code",
   "execution_count": 33,
   "metadata": {},
   "outputs": [
    {
     "name": "stdout",
     "output_type": "stream",
     "text": [
      "{'etudiantAdmis': {'etudiant_1': 13,\n",
      "                   'etudiant_10': 15,\n",
      "                   'etudiant_11': 14,\n",
      "                   'etudiant_13': 10,\n",
      "                   'etudiant_14': 12,\n",
      "                   'etudiant_15': 13,\n",
      "                   'etudiant_17': 12,\n",
      "                   'etudiant_18': 15,\n",
      "                   'etudiant_2': 17,\n",
      "                   'etudiant_20': 20,\n",
      "                   'etudiant_4': 15,\n",
      "                   'etudiant_6': 14,\n",
      "                   'etudiant_7': 16,\n",
      "                   'etudiant_8': 12,\n",
      "                   'etudiant_9': 13},\n",
      " 'etudiantNonAdmis': {'etudiant_112': 9,\n",
      "                      'etudiant_16': 7,\n",
      "                      'etudiant_19': 9,\n",
      "                      'etudiant_3': 9,\n",
      "                      'etudiant_5': 8}}\n"
     ]
    }
   ],
   "source": [
    "from pprint import pprint\n",
    "etudiants = {\"etudiant_1\": 13, \"etudiant_2\": 17, \"etudiant_3\": 9, \"etudiant_4\": 15,\n",
    "             \"etudiant_5\": 8, \"etudiant_6\": 14, \"etudiant_7\": 16, \"etudiant_8\": 12,\n",
    "             \"etudiant_9\": 13, \"etudiant_10\": 15, \"etudiant_11\": 14, \"etudiant_112\": 9,\n",
    "             \"etudiant_13\": 10, \"etudiant_14\": 12, \"etudiant_15\": 13, \"etudiant_16\": 7,\n",
    "             \"etudiant_17\": 12, \"etudiant_18\": 15, \"etudiant_19\": 9, \"etudiant_20\":20\n",
    "            }\n",
    "\n",
    "etudiantsTrier={}\n",
    "etudiantsTrier['etudiantAdmis'] = {key: val for key, val in etudiants.items() if val >= 10}\n",
    "etudiantsTrier['etudiantNonAdmis'] = {key: val for key, val in etudiants.items() if val < 10}\n",
    "\n",
    "pprint(etudiantsTrier)\n"
   ]
  },
  {
   "cell_type": "code",
   "execution_count": 1,
   "metadata": {},
   "outputs": [
    {
     "name": "stdout",
     "output_type": "stream",
     "text": [
      "['1', 1, 2]\n"
     ]
    }
   ],
   "source": [
    "from collections import OrderedDict\n",
    "a = [\"1\", 1, \"1\", 2]\n",
    "a = list(OrderedDict.fromkeys(a))\n",
    "print(a)"
   ]
  }
 ],
 "metadata": {
  "interpreter": {
   "hash": "9bf2ca0f4a7adc3ce2f237ca763c1538d3ef289a4e7face3612a01cdae9f6807"
  },
  "kernelspec": {
   "display_name": "Python 3 (ipykernel)",
   "language": "python",
   "name": "python3"
  },
  "language_info": {
   "codemirror_mode": {
    "name": "ipython",
    "version": 3
   },
   "file_extension": ".py",
   "mimetype": "text/x-python",
   "name": "python",
   "nbconvert_exporter": "python",
   "pygments_lexer": "ipython3",
   "version": "3.9.7"
  }
 },
 "nbformat": 4,
 "nbformat_minor": 2
}
