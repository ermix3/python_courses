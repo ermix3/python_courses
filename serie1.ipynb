{
 "cells": [
  {
   "cell_type": "markdown",
   "metadata": {
    "pycharm": {
     "name": "#%% md\n"
    }
   },
   "source": [
    "### Exercice1\n",
    "\n",
    "1. Quelles seront les valeurs des variables A et B après exécution des instructions suivantes ? \n",
    "```\n",
    "Variables A, B : Entier \n",
    "Début \n",
    "  A ← 1 \n",
    "  B ← A + 3 \n",
    "  A ← 3\n",
    "  Ecrire(\"A= \", A, \"B= \",B)\n",
    "fin \n",
    "```\n"
   ]
  },
  {
   "cell_type": "code",
   "execution_count": 2,
   "metadata": {
    "pycharm": {
     "name": "#%%\n"
    }
   },
   "outputs": [
    {
     "name": "stdout",
     "output_type": "stream",
     "text": [
      "A= 1 B= 4\n"
     ]
    }
   ],
   "source": [
    "A=1\n",
    "B=A+3\n",
    "print('A=',A,'B=',B)"
   ]
  },
  {
   "cell_type": "markdown",
   "metadata": {
    "pycharm": {
     "name": "#%% md\n"
    }
   },
   "source": [
    "2. Quelles seront les valeurs des variables A et B après exécution des instructions suivantes ?\n",
    "```\n",
    "Variables A, B: Entier\n",
    "Début\n",
    "A ← 5\n",
    "B ← A + 4\n",
    "A ← A + 1\n",
    "B ← A – 4 \n",
    "Ecrire(\"A= \", A, \"B= \", B)\n",
    "Fin\n",
    "```"
   ]
  },
  {
   "cell_type": "code",
   "execution_count": null,
   "metadata": {
    "pycharm": {
     "name": "#%%\n"
    }
   },
   "outputs": [],
   "source": []
  },
  {
   "cell_type": "markdown",
   "metadata": {
    "pycharm": {
     "name": "#%% md\n"
    }
   },
   "source": [
    "### Exercice 2 : \n",
    "Quelles seront les valeurs des variables A, B et C après exécution des instructions suivantes ? \n",
    "```\n",
    "Variables A, B, C : Entier \n",
    "Début \n",
    "A ← 3 \n",
    "B ← 10 \n",
    "C ← A + B \n",
    "B ← A + B \n",
    "A ← C \n",
    "A ← C Div B \n",
    "A ← C Mod A \n",
    "Ecrire(\"A= \", A, \"B= \",B, \"C= \",C) \n",
    "Fin\n",
    "```"
   ]
  },
  {
   "cell_type": "code",
   "execution_count": 1,
   "metadata": {
    "pycharm": {
     "name": "#%%\n"
    }
   },
   "outputs": [
    {
     "name": "stdout",
     "output_type": "stream",
     "text": [
      "A=  0.0 B=  13 C=  13\n"
     ]
    }
   ],
   "source": [
    "a=3\n",
    "b=10\n",
    "c=a+b\n",
    "b=a+b\n",
    "a=c\n",
    "a=c/b\n",
    "a=c%a\n",
    "print(\"A= \", a, \"B= \", b, \"C= \", c)\n"
   ]
  },
  {
   "cell_type": "markdown",
   "metadata": {
    "pycharm": {
     "name": "#%% md\n"
    }
   },
   "source": [
    "### Exercice 3 :\n",
    "Quels résultats fournit l’algorithme suivant\n",
    "```\n",
    "Algorithme ParExemple\n",
    "Constante TVA ← 20.6\n",
    "Variable prixHT, prixTTC: réel \n",
    "Début\n",
    "  Ecrire(\"Donnez-moi le prix hors taxe :\")\n",
    "  lire(prixHT)\n",
    "  prixTTC ←prixHT* (1+TVA/100)\n",
    "  Ecrire(prixHT, \" DH H.T. devient \", prixTTC, \" DH T.T.C.\")\n",
    "Fin\n",
    "```"
   ]
  },
  {
   "cell_type": "code",
   "execution_count": 4,
   "metadata": {
    "pycharm": {
     "name": "#%%\n"
    }
   },
   "outputs": [
    {
     "name": "stdout",
     "output_type": "stream",
     "text": [
      "7 DH H.T. devient  8.442 DH T.T.C.\n"
     ]
    }
   ],
   "source": [
    "# print('Donnez-moi le prix hors taxe :')\n",
    "TVA=20.6\n",
    "prixHT=int(input('Donnez-moi le prix hors taxe :'))\n",
    "prixTTC=prixHT*(1+TVA/100)\n",
    "print(prixHT, \"DH H.T. devient \", prixTTC, \"DH T.T.C.\")\n"
   ]
  },
  {
   "cell_type": "markdown",
   "metadata": {
    "pycharm": {
     "name": "#%% md\n"
    }
   },
   "source": [
    "### Exercice 4 :\n",
    "1. Quelle est la valeur de la variable b à la fin des instructions suivantes :\n",
    "```\n",
    "b1 ← 3<7\n",
    "b ← b1 et VRAI\n",
    "```\n",
    "2. Même question avec les instructions suivantes :\n",
    "```\n",
    "e←5\n",
    "r←4\n",
    "b ← (5 = e) ou non(r = 3,3)\n",
    "```"
   ]
  },
  {
   "cell_type": "code",
   "execution_count": 6,
   "metadata": {
    "pycharm": {
     "name": "#%%\n"
    }
   },
   "outputs": [
    {
     "name": "stdout",
     "output_type": "stream",
     "text": [
      "True\n"
     ]
    }
   ],
   "source": [
    "e=5\n",
    "r=4\n",
    "b=(5==e) or not(r==3.3)\n",
    "print(b)"
   ]
  },
  {
   "cell_type": "markdown",
   "metadata": {
    "pycharm": {
     "name": "#%% md\n"
    }
   },
   "source": [
    "### Exercice 5 :\n",
    "1. Ecrire un algorithme permettant de calculer le périmètre d’un cercle.\n",
    "2. Ecrire un algorithme qui demande un nombre à l’utilisateur, puis qui calcule et affiche le carré de ce nombre.\n",
    "3. Ecrire un algorithme qui calcule l’image d’un nombre x par une fonction du type\n",
    "f(x) = ax2+ bx + c (a, b et c donnés)"
   ]
  },
  {
   "cell_type": "code",
   "execution_count": 8,
   "metadata": {
    "pycharm": {
     "name": "#%%\n"
    }
   },
   "outputs": [
    {
     "name": "stdout",
     "output_type": "stream",
     "text": [
      "9\n"
     ]
    }
   ],
   "source": [
    "# PI=3.14\n",
    "# r=float(input('entrer le rayon: '))\n",
    "# p=2*PI*r\n",
    "# s=PI*r**2\n",
    "# print('circle de rayon {1} la perimetere: {0}'.format(r,p))\n",
    "# print(f'circle de rayon {r} la perimetere: {p}')\n",
    "# print(f'circle de rayon {r} la surface: {s}')\n",
    "\n",
    "def f(x):\n",
    "  print(3*x**2+5*x+1) # procedure\n",
    "  # return 3*x**2+5*x+1 # function\n",
    "\n",
    "f(1)\n",
    "# f(2)\n"
   ]
  },
  {
   "cell_type": "markdown",
   "metadata": {
    "pycharm": {
     "name": "#%% md\n"
    }
   },
   "source": [
    "### Exercice 6 :\n",
    "1. Ecrire un algorithme saisissant 4 variables entières qui calcule et affiche leur moyenne et leur somme.\n",
    "2. Ecrire un algorithme demandant à l'utilisateur de taper 5 entiers et qui affiche leur somme et leur moyenne. L’algorithme ne devra utiliser que 2 variables.\n",
    "3. Ecrire un algorithme permettant de calculer la moyenne d’un élève sur 5 matières."
   ]
  },
  {
   "cell_type": "code",
   "execution_count": 3,
   "metadata": {
    "pycharm": {
     "name": "#%%\n"
    }
   },
   "outputs": [
    {
     "name": "stdout",
     "output_type": "stream",
     "text": [
      "10\n"
     ]
    }
   ],
   "source": [
    "# somme=0\n",
    "# for i in range(4):\n",
    "#   a=int(input('entrer le nombre {%d}'%(i)))\n",
    "#   a=int(input('entrer le nombre {i}'.format(i=i+1)))\n",
    "#   somme+=a\n",
    "# print(somme)\n",
    "numbrs = [int(input('entrer un nombre')) for i in range(1, 5)]\n",
    "print(sum(numbrs))"
   ]
  },
  {
   "cell_type": "markdown",
   "metadata": {
    "pycharm": {
     "name": "#%% md\n"
    }
   },
   "source": [
    "### Exercice 7:\n",
    "1. Ecrire un algorithme permettant d’échanger les valeurs de deux variables A et B, et ce quel que soit leur contenu préalable.\n",
    "2. Même question avec l’algorithme ne devra utiliser que 2 variables."
   ]
  },
  {
   "cell_type": "code",
   "execution_count": null,
   "metadata": {
    "pycharm": {
     "name": "#%%\n"
    }
   },
   "outputs": [],
   "source": []
  },
  {
   "cell_type": "markdown",
   "metadata": {
    "pycharm": {
     "name": "#%% md\n"
    }
   },
   "source": [
    "### Exercice 8 :\n",
    "1. Ecrire un algorithme saisissant le prix \"TTC\" d'une marchandise et affichant le prix \"Hors Taxe\" sachant que cet article a une T.V.A. de 18,6%.\n",
    "2. Ecrire un algorithme qui lit le prix HT d’un article, le nombre d’articles et le taux de TVA, et qui fournit le prix total TTC correspondant. Faire en sorte que des libellés apparaissent clairement."
   ]
  },
  {
   "cell_type": "code",
   "execution_count": null,
   "metadata": {},
   "outputs": [],
   "source": []
  }
 ],
 "metadata": {
  "kernelspec": {
   "display_name": "Python 3.10.5 64-bit",
   "language": "python",
   "name": "python3"
  },
  "language_info": {
   "codemirror_mode": {
    "name": "ipython",
    "version": 3
   },
   "file_extension": ".py",
   "mimetype": "text/x-python",
   "name": "python",
   "nbconvert_exporter": "python",
   "pygments_lexer": "ipython3",
   "version": "3.10.5"
  },
  "orig_nbformat": 4,
  "vscode": {
   "interpreter": {
    "hash": "6be2913499dbe7fb01de94545d509a8091418147a590bbaefcf83f39aa99cbfd"
   }
  }
 },
 "nbformat": 4,
 "nbformat_minor": 2
}
