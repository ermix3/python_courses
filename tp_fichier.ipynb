{
 "cells": [
  {
   "cell_type": "code",
   "execution_count": 6,
   "metadata": {},
   "outputs": [
    {
     "name": "stdout",
     "output_type": "stream",
     "text": [
      "[\"a) Ecrire un programme Python qui permet de lire les n premiÃ¨res lignes d'un fichier donnÃ©\", \"b) Ecrire un programme qui permet de lire les n derniers lignes d'un fichier donnÃ©\", \"c) Ecrire un programme Python qui permet d'extraire le contenu d'un fichier depuis la 3 Ã¨me ligne jusqu'Ã\\xa0 la 5 Ã¨me et de l'enregistrer dans un autre fichier\"]\n"
     ]
    }
   ],
   "source": [
    "with open('TP3333.txt') as file:\n",
    "  tt=file.read().splitlines() # new way to read file then read lines\n",
    "print(tt)"
   ]
  },
  {
   "cell_type": "code",
   "execution_count": 114,
   "metadata": {},
   "outputs": [
    {
     "name": "stdout",
     "output_type": "stream",
     "text": [
      "C:\\Users\\HP\\Desktop\\fichierPython\n"
     ]
    }
   ],
   "source": [
    "import os\n",
    "\n",
    "print(os.getcwd())\n",
    "# print(os.path.dirname(os.path.abspath(__file__)))\n",
    "# print(os.path.abspath())\n",
    "file = open('monFichier1.txt')\n",
    "file.close()\n"
   ]
  },
  {
   "cell_type": "code",
   "execution_count": null,
   "metadata": {},
   "outputs": [],
   "source": [
    "# creating, reading, updating, and deleting files.\n",
    "# open(filename, mode) mode: \"r\" - Read - Default value, \"w\" write, \"a\" append, \"x\" Create, => \"t\" Text:Default value, \"b\" Binary\n",
    "\n",
    "filename = 'journal.txt'\n",
    "with open(filename, 'w') as file_object:\n",
    "    file_object.write(\"I love programming.\")\n",
    "\n",
    "with open(filename, 'a') as file_object:\n",
    "    file_object.write(\"\\nI love making games.\")\n"
   ]
  },
  {
   "cell_type": "code",
   "execution_count": null,
   "metadata": {},
   "outputs": [],
   "source": [
    "# Create a New File with one of this mode \"x\" => error if exist , \"a\", \"w\".\n",
    "with open('file.txt', 'rt') as file:  # default value is reading and text\n",
    "    print(file.readline())\n",
    "# Delete a File: we need to import os module\n",
    "import os\n",
    "# os.remove(\"file.txt\") # if file not exist so it good to check if exist first place.\n",
    "os.remove(\"demofile.txt\") if os.path.exists(\n",
    "    \"demofile.txt\") else print(\"The file does not exist\")\n",
    "# Create Folder\n",
    "os.mkdir('thisIsNewWork')  # Error if file exist\n",
    "# Delete Folder\n",
    "# Error if file not exist, and you can only remove empty folders.\n",
    "os.rmdir('thisIsNewWork')\n",
    "\n",
    "# to ignore Error other tricks\n",
    "try:\n",
    "    with open('requests.py', 'x') as rqst:\n",
    "        print('Done!')\n",
    "except FileExistsError:\n",
    "    print('oops. file name exist!'.title())\n",
    "\n",
    "try:\n",
    "    os.mkdir('thisIsNewWork')\n",
    "except FileExistsError:\n",
    "    print('oops. folder name exist!'.title())\n",
    "\n",
    "try:\n",
    "    os.rmdir('thisIsNewWork')\n",
    "except FileExistsError:\n",
    "    print('oops. folder name doesn\\'t exist!'.title())\n"
   ]
  },
  {
   "cell_type": "markdown",
   "metadata": {},
   "source": [
    "## Exercice 1\n",
    "\n",
    "Ecrire un programme Python qui permet de lire un fichier existant sur le bureau nommé monFichier.txt. On dois préalablement récupérer le nom d'utilisateur via la commande os.getlogin()\n"
   ]
  },
  {
   "cell_type": "code",
   "execution_count": 73,
   "metadata": {},
   "outputs": [
    {
     "name": "stdout",
     "output_type": "stream",
     "text": [
      "Er.Re\n"
     ]
    },
    {
     "data": {
      "text/plain": [
       "'C:\\\\Users\\\\HP\\\\Desktop\\\\fichierPython'"
      ]
     },
     "execution_count": 73,
     "metadata": {},
     "output_type": "execute_result"
    }
   ],
   "source": [
    "import os\n",
    "\n",
    "print(os.getlogin())\n",
    "os.getcwd()\n"
   ]
  },
  {
   "cell_type": "markdown",
   "metadata": {},
   "source": [
    "## Exercice 2\n",
    "\n",
    "En utilisant les modules os et chdir en mode console, donner les commandes qui permettent de créer un fichier nommé monFichier.txt sur le bureau.\n"
   ]
  },
  {
   "cell_type": "code",
   "execution_count": 86,
   "metadata": {},
   "outputs": [
    {
     "name": "stdout",
     "output_type": "stream",
     "text": [
      "etudiants = {\"etudiant_1\" : 13, \"etudiant_2\" : 17, \"etudiant_3\" : 9, \"etudiant_4\" : 15, \"etudiant_5\" : 8, \"etudiant_6\" : 14, \"etudiant_7\" : 16,\"etudiant_8\" : 12,\"etudiant_9\" : 13, \"etudiant_10\" : 15, \"etudiant_11\" : 14, \"etudiant_12\" : 9, \"etudiant_13\" : 10, \"etudiant_14\" : 12, \"etudiant_15\" : 13, \"etudiant_16\" : 7, \"etudiant_17\" : 12, \"etudiant_18\" : 15,  \"etudiant_19\" : 9, \"etudiant_20\":20}\n"
     ]
    }
   ],
   "source": [
    "import os\n",
    "\n",
    "os.chdir('C:/Users/HP/Desktop/fichierPython')\n",
    "os.getcwd()\n",
    "with open('monFichier.txt', 'r') as file:\n",
    "    print(file.readlines()[0])\n",
    "with open('monFichier.py', 'w') as file:\n",
    "    file.writelines('hello')\n"
   ]
  },
  {
   "cell_type": "markdown",
   "metadata": {},
   "source": [
    "## Exercice 3\n",
    "\n",
    "En utilisant la méthode os.rename(), créer un programme python permettant de renommer un fichier existant sur le bureau.\n"
   ]
  },
  {
   "cell_type": "code",
   "execution_count": 59,
   "metadata": {},
   "outputs": [
    {
     "name": "stdout",
     "output_type": "stream",
     "text": [
      "C:\\Users\\HP\\Desktop\\fichierPython\n",
      "Done!\n"
     ]
    }
   ],
   "source": [
    "import os\n",
    "\n",
    "os.chdir('C:/Users/HP/Desktop/fichierPython')\n",
    "direction = os.getcwd()\n",
    "print(direction)\n",
    "if os.path.exists('test.txt'):\n",
    "    os.rename('test.txt', 'test.txt')\n",
    "    print('done!'.title())\n",
    "else:\n",
    "    print('not exist'.title())\n"
   ]
  },
  {
   "cell_type": "markdown",
   "metadata": {},
   "source": [
    "## Exercice 4\n",
    "\n",
    "Créer un programme Python permettant de créer un répertoire nommé monDossier sur le bureau et de déplacer un fichier qui existe sur le bureau monFichier.txt vers le répertoire monDossier.\n"
   ]
  },
  {
   "cell_type": "markdown",
   "metadata": {},
   "source": [
    "## Exercice 5\n",
    "\n",
    "On dispose d'un fichier nommé monFichier.txt qui se trouve sur le bureau et qui contient le texte T='Je fais un stage au CRMEF BERKANE. Créer un programme Python permettant de remplacer le texte existant par la phrase : 'Je fais une formation au CRMEF NADOR\n"
   ]
  },
  {
   "cell_type": "markdown",
   "metadata": {},
   "source": [
    "## Exercice 6\n",
    "\n",
    "Écrire un programme en Python qui permet de remplacer la 3èmeligne par la phrase ''désolé ! Le contenu de cette ligne a été changé !''\n"
   ]
  },
  {
   "cell_type": "markdown",
   "metadata": {},
   "source": [
    "## Exercice 7\n",
    "\n",
    "Écrire un programme en Python qui permet d'insérer à une position donnée, la ligne ''Cette ligne a été inserée via un code Python ! ''.\n"
   ]
  },
  {
   "cell_type": "markdown",
   "metadata": {},
   "source": [
    "## Exercice 8\n",
    "\n",
    "Écrire un programme Python qui supprime le 5èmemot d'un fichier.\n"
   ]
  },
  {
   "cell_type": "markdown",
   "metadata": {},
   "source": [
    "## Exercice 9\n",
    "\n",
    "Écrire un programme en Python qui permet d'échanger la troisième ligne avec la deuxième ligne.\n"
   ]
  },
  {
   "cell_type": "markdown",
   "metadata": {},
   "source": [
    "## Exercice 10\n",
    "\n",
    "Écrire un programme en Python qui transforme le contenu d'un fichier en écrivant chaque mot dans une ligne séparée.\n"
   ]
  },
  {
   "cell_type": "markdown",
   "metadata": {},
   "source": [
    "## Exercice 11\n",
    "\n",
    "a) Ecrire un proramme qui permet de lister tous les dossiers du répertoire 'C:/Windows'\n",
    "b) écrire un autre programme qui liste tous les fichiers du répertoire 'C:/Windows'.\n",
    "c) En utilisant la méthode getlogin(), écrire un programme qui réalise les mêmes opérations pour le répertoire Desktop de l'utilisateur\n"
   ]
  },
  {
   "cell_type": "markdown",
   "metadata": {},
   "source": [
    "## Exercice 12\n",
    "\n",
    "a) Ecrire un programme Python qui permet de lire les n premières lignes d'un fichier donné\n",
    "b) Ecrire un programme qui permet de lire les n derniers lignes d'un fichier donné\n",
    "c) Ecrire un programme Python qui permet d'extraire le contenu d'un fichier depuis la 3 ème ligne jusqu'à la 5 ème et de l'enregistrer dans un autre fichier\n"
   ]
  },
  {
   "cell_type": "code",
   "execution_count": null,
   "metadata": {},
   "outputs": [],
   "source": [
    "# ouverture en lecture\n",
    "import csv\n",
    "f = open(\"personnes.csv\", \"r\")\n",
    "# importation du module csv\n",
    "# lecture utilisation du parseur csv\n",
    "lecteur = csv.reader(f, delimiter=\";\")\n",
    "# affichage itération sur chaque ligne\n",
    "for ligne in lecteur:\n",
    "    print(ligne)\n",
    "# fermeture du fichier\n",
    "f .close\n"
   ]
  },
  {
   "cell_type": "code",
   "execution_count": 41,
   "metadata": {},
   "outputs": [
    {
     "name": "stdout",
     "output_type": "stream",
     "text": [
      "data saved successfully\n"
     ]
    }
   ],
   "source": [
    "import csv\n",
    "with open(\"employees_1.csv\", mode='w') as myfile:\n",
    "    mywriter = csv.writer(myfile, delimiter=\",\")\n",
    "    eno = int(input(\"enter employee number: \"))\n",
    "    for row in range(eno):\n",
    "        ename = input(\"enter employee name: \")\n",
    "        esalary = int(input(\"enter employee salary: \"))\n",
    "        eaddress = input(\"enter employee address: \")\n",
    "    mywriter.writerow([eno, ename, esalary, eaddress])\n",
    "\n",
    "print(\"data saved successfully\")\n"
   ]
  },
  {
   "cell_type": "code",
   "execution_count": 30,
   "metadata": {},
   "outputs": [
    {
     "name": "stdout",
     "output_type": "stream",
     "text": [
      "['JSONDecodeError', 'JSONDecoder', 'JSONEncoder', '__all__', '__author__', '__builtins__', '__cached__', '__doc__', '__file__', '__loader__', '__name__', '__package__', '__path__', '__spec__', '__version__', '_default_decoder', '_default_encoder', 'codecs', 'decoder', 'detect_encoding', 'dump', 'dumps', 'encoder', 'load', 'loads', 'scanner']\n"
     ]
    }
   ],
   "source": [
    "import json\n",
    "\n",
    "print(dir(json))\n",
    "# print(help(json.dump))\n",
    "# print(help(json.load))\n"
   ]
  },
  {
   "cell_type": "code",
   "execution_count": 1,
   "metadata": {},
   "outputs": [
    {
     "name": "stdout",
     "output_type": "stream",
     "text": [
      "{}\n"
     ]
    }
   ],
   "source": [
    "class Condidat:\n",
    "    def __init__(self):  # ,nom,prenom,age,cin,decision\n",
    "        self.nom = ''\n",
    "        self.prenom = ''\n",
    "        self.age = 0\n",
    "        self.cin = 0\n",
    "        self.decision = ''\n",
    "\n",
    "    def saisir(self):\n",
    "        dct = {}\n",
    "        dct['nom'] = input('enter nom')\n",
    "        dct['prenom'] = input('enter prenom')\n",
    "        dct['age'] = int(input('enter age'))\n",
    "        dct['cin'] = int(input('enter cin'))\n",
    "        dct['decision'] = input('enter decision [admis; refusé; ajourné]')\n",
    "\n",
    "\n",
    "# def admis(age, decision):\n",
    "#   with open('admis.txt','a') as admis_txt:\n",
    "#     if age<30 and decision=='admis':\n",
    "#         admis_txt.write()\n",
    "\n",
    "# def attente(age):\n",
    "#   with open('attente.txt','a') as attente_txt:\n",
    "#     if age>30:\n",
    "#       attente_txt.write()\n",
    "\n",
    "# def statistiques(decision):\n",
    "#   admis = (Nombre des candidats admis / Nombre des candidats) *100\n",
    "\n",
    "data = {}\n",
    "for i in range(1, int(input('enter numbre of condidat: '))+1):\n",
    "    cond = Condidat()\n",
    "    cond.saisir()\n",
    "\n",
    "print(data)\n",
    "# print(cond.nom)\n"
   ]
  },
  {
   "cell_type": "code",
   "execution_count": 100,
   "metadata": {},
   "outputs": [
    {
     "name": "stdout",
     "output_type": "stream",
     "text": [
      "reda;ermich;23\n",
      "\n",
      "True\n",
      "ali;ermich;13\n",
      "\n"
     ]
    }
   ],
   "source": [
    "with open('student.txt') as file:\n",
    "    print(file.readline())\n",
    "    print(file.readable())\n",
    "    print(file.readline())\n"
   ]
  },
  {
   "cell_type": "code",
   "execution_count": null,
   "metadata": {},
   "outputs": [],
   "source": [
    "Nombre_candidats = 4\n",
    "Nombre_candidats_admis = 4\n",
    "Nombre_candidats_ajourne = 10\n",
    "Nombre_candidats_refuse = 6\n",
    "\n",
    "\n",
    "def statistiques(decesion):\n",
    "\n",
    "    admis = (Nombre_candidats_admis / Nombre_candidats) * 100\n",
    "    ajourne = (Nombre_candidats_ajourne / Nombre_candidats) * 100\n",
    "    refuse = (Nombre_candidats_refuse / Nombre_candidats) * 100\n",
    "\n",
    "    if decesion == 'admis':\n",
    "        return admis\n",
    "    elif decesion == 'ajournee':\n",
    "        return ajourne\n",
    "    elif decesion == 'refuse':\n",
    "        return refuse\n",
    "    else:\n",
    "        print('corriger votre decesion.')\n",
    "\n",
    "\n",
    "def supprimer():\n",
    "    with open('admis.txt') as admis:\n",
    "        data = admis.readlines()\n",
    "\n",
    "    with open('admis.txt', 'w') as file:\n",
    "        for line in data:         # NCIN, NOM, PRENOM, AGE, DECISION\n",
    "            age = line.split(';')[3]\n",
    "            if int(age) > 30:\n",
    "                data.remove(line)\n",
    "\n",
    "        file.writelines(data)\n",
    "\n",
    "\n",
    "# def supprimer():\n",
    "#     with open('admis.txt','w') as admis:\n",
    "#       data = admis.readlines()\n",
    "\n",
    "#       for line in data:         # NCIN, NOM, PRENOM, AGE, DECISION\n",
    "#         age = line.split(';')[3]\n",
    "#         if int(age) > 30:\n",
    "#             data.remove(line)\n",
    "\n",
    "#       admis.writelines(data)\n"
   ]
  },
  {
   "cell_type": "markdown",
   "metadata": {},
   "source": [
    "Après la réussite au baccalauréat, les meilleurs bacheliers sont orientés vers les classes préparatoires aux grandes écoles. En effet, la priorité est à celui qui a le score (nombre de points) le plus élevé. Ce score est appelé formule globale.\n",
    "Les élèves admissibles seront classés par ordre décroissant selon la formule globale, Puis, une fois classés, ces bacheliers seront divisés en 4 groupes de la façon suivante :\n",
    "\n",
    "Dans le répertoire C:/bachelier, on dispose d’un fichier nommé ‘PSI.txt’ contenant la liste des bacheliers admissibles de la section Physique et sciences industrielles. Dans ce fichier, chaque bachelier est défini par :\n",
    "• Num_insc: le numéro d’inscription\n",
    "• NP: le nom et prénom\n",
    "• FILIERE: le nom de la filière (SMA, SMB, PC ou SVT)\n",
    "• MG: moyenne générale.\n",
    "• FS(formule spécifique) : un réel déjà calculé à partir des notes obtenues dans les diverses matières.\n",
    "• i: un réel=1 si l’élève est redoublant en BAC et 1.10 sinon\n",
    "On souhaite réaliser les fonctions suivantes :\n"
   ]
  },
  {
   "cell_type": "markdown",
   "metadata": {},
   "source": [
    "1. formule_gen() qui permet de créer un autre fichier ‘PSI_FG.txt’, à partir du fichier ‘PSI.txt’, et y stocker, pour les mêmes bacheliers, les informations suivantes : Num_insc, NP, FILIERE et FG. Sachant que la formule globale (FG) de chaque élève est calculée par l’équation :\n",
    "   FG=((5*MG+FS)*i)\n"
   ]
  },
  {
   "cell_type": "code",
   "execution_count": null,
   "metadata": {},
   "outputs": [],
   "source": [
    "def formule_gen():\n",
    "    with open('PSI.txt') as file_1:\n",
    "        lines = file_1.readlines()\n",
    "\n",
    "        with open('PSI_FG.txt', 'w') as file_2:\n",
    "            data = []\n",
    "            for line in lines:      # Num_insc, NP, FILIERE, MG, FS, i\n",
    "                data = line.split(';')\n",
    "                MG = int(data[3])\n",
    "                FS = int(data[4])\n",
    "                i = int(data[5])\n",
    "                FG = ((5*MG+FS)*i)\n",
    "                data.append(data[:3]+str(FG)+'\\n')\n",
    "            file_2.writelines(data)\n"
   ]
  },
  {
   "cell_type": "markdown",
   "metadata": {},
   "source": [
    "2. classer() qui permet de classer les bacheliers du fichiers ‘PSI_FG.txt’ par ordre décroissant selon la formule globale(FG).\n",
    "   N.B : pour faire cette tache, on doit transmettre les informations dans un tableau, les trier puis les transmettre ordonnées dans le fichier, implémenter un algorithme de tri que vous voulez pour trier le tableau\n"
   ]
  },
  {
   "cell_type": "code",
   "execution_count": null,
   "metadata": {},
   "outputs": [],
   "source": [
    "def classer():\n",
    "    with open('PSI_FG.txt', 'w+') as file:\n",
    "        lines_data = file.readlines()\n",
    "        data_before = [line.replace('\\n', '').split(\n",
    "            ';') for line in lines_data]  # Num_insc, NP, FILIERE, FG\n",
    "\n",
    "        # tri par selection\n",
    "        for i in range(len(data_before)-1):\n",
    "            ind_max = i\n",
    "            for j in range(i+1, len(data_before)):\n",
    "                if int(data_before[j][3]) > int(data_before[ind_max][3]):\n",
    "                    ind_max = j\n",
    "            x = data_before[i]\n",
    "            data_before[i] = data_before[ind_max]\n",
    "            data_before[ind_max] = x\n",
    "\n",
    "        data_after = [';'.join(item)+'\\n' for item in data_before]\n",
    "        file.writelines(data_after)\n"
   ]
  },
  {
   "cell_type": "markdown",
   "metadata": {},
   "source": [
    "3. generer() qui permet d’extraire, dans le même répertoire, 4 autres fichiers (‘PSI_princ.txt’, ‘PSI_t1.txt’, ‘PSI_t2.txt’, ‘PSI_t3.txt’) contenant respectivement les bacheliers appartenant au groupe liste principale, tranche 1, tranche2 et tranche3.\n"
   ]
  },
  {
   "cell_type": "code",
   "execution_count": null,
   "metadata": {},
   "outputs": [],
   "source": [
    "import json\n",
    "\n",
    "\n",
    "def generer():\n",
    "    try:\n",
    "        with open('PSI_FG.txt') as source:\n",
    "            condidats_data = source.readlines()\n",
    "            condidats_info = [condidat.split(';') for condidat in condidats_data]\n",
    "            dct_condidat = {\n",
    "                'PSI_prin': {'SMA': 12, 'SMB': 9, 'PC': 6, 'SVT': 3},\n",
    "                'PSI_t1': {'SMA': 20, 'SMB': 10, 'PC': 8, 'SVT': 2},\n",
    "                'PSI_t2': {'SMA': 24, 'SMB': 18, 'PC': 12, 'SVT': 6},\n",
    "                'PSI_t3': {'SMA': 27.5, 'SMB': 12.5, 'PC': 10}\n",
    "            }\n",
    "            groupe = {key: {filiere: [] for filiere in dct_condidat[key]}\n",
    "                      for key in dct_condidat}\n",
    "\n",
    "            def filt_condidat(filiere, key, condidat, count):\n",
    "                if condidat[2] == filiere and count < dct_condidat[key][filiere]:\n",
    "                    groupe[key][filiere].append(';'.join(condidat))\n",
    "                    condidats_info.remove(condidat)\n",
    "                    count += 1\n",
    "\n",
    "            for key in dct_condidat:\n",
    "                count_SMA = count_SMB = count_PC = count_SVT = 0\n",
    "                for condidat in condidats_info:\n",
    "                    for filiere in key:\n",
    "                        filt_condidat(filiere, key, condidat,\n",
    "                                      f'count_{filiere}')\n",
    "\n",
    "                with open(f\"{key}.json\", \"w\") as file:\n",
    "                    json.dump(groupe[key], file, indent=4)\n",
    "    except FileNotFoundError:\n",
    "        print('oops, file not exist!')\n"
   ]
  },
  {
   "cell_type": "markdown",
   "metadata": {},
   "source": [
    "4. afficher(Num_insc) qui permet d’afficher, pour un candidat donné, en fonction de son numéro d’inscription (donnée fournie en argument), le groupe auquel il appartient\n"
   ]
  },
  {
   "cell_type": "code",
   "execution_count": null,
   "metadata": {},
   "outputs": [],
   "source": [
    "import json\n",
    "\n",
    "\n",
    "def afficher(Num_insc):\n",
    "    groupe = {}\n",
    "    for key,val in groupe:\n",
    "        for filiere in val:\n",
    "            for i in range(len(filiere)):\n",
    "                if Num_insc in val[filiere][i]:\n",
    "                    return print(f'condidat de  numero: {Num_insc} appartient au group: {key}')\n"
   ]
  },
  {
   "cell_type": "code",
   "execution_count": 39,
   "metadata": {},
   "outputs": [
    {
     "name": "stdout",
     "output_type": "stream",
     "text": [
      "['EMPLOYEE_ID', 'FIRST_NAME', 'LAST_NAME', 'EMAIL', 'PHONE_NUMBER', 'HIRE_DATE', 'JOB_ID', 'SALARY', 'COMMISSION_PCT', 'MANAGER_ID', 'DEPARTMENT_ID']\n",
      "['198', 'Donald', 'OConnell', 'DOCONNEL', '650.507.9833', '21-JUN-07', 'SH_CLERK', '2600', ' - ', '124', '50']\n",
      "['199', 'Douglas', 'Grant', 'DGRANT', '650.507.9844', '13-JAN-08', 'SH_CLERK', '2600', ' - ', '124', '50']\n",
      "['200', 'Jennifer', 'Whalen', 'JWHALEN', '515.123.4444', '17-SEP-03', 'AD_ASST', '4400', ' - ', '101', '10']\n"
     ]
    }
   ],
   "source": [
    "import csv\n",
    "\n",
    "with open('py_pdf_hajji/employees.csv') as file:\n",
    "    # data = csv.DictReader(file)\n",
    "    data = csv.reader(file)\n",
    "    for item in data:\n",
    "        print(item)\n",
    "        if item[0] == '200':\n",
    "            break\n"
   ]
  },
  {
   "cell_type": "code",
   "execution_count": 133,
   "metadata": {},
   "outputs": [],
   "source": [
    "import json\n",
    "\n",
    "with open('py_pdf_hajji/employees.json') as file:\n",
    "    # Deserialize JSON to Object in Python => load() & loads()\n",
    "    info = json.load(file)      # method can read a file which contains a JSON object\n",
    "    # info = json.loads(file)   # method can parse a json string and the result will be a Python dictionary\n",
    "    \n",
    "    # Serializing JSON data in Python => dump() & dumps()\n",
    "    # json.dump(dict, file_path,indent)   # method can be used for writing to JSON file\n",
    "    # json.dumps(dict, file_path,indent)  # method can convert a Python object into a JSON string\n",
    "data = {\"Employees\": [single_info for single_info in info['Employees'] if single_info['jobTitleName'] != 'Program Directory']}\n",
    "\n",
    "with open('test.json','w') as new:\n",
    "    json.dump(data,new,indent=4)\n"
   ]
  },
  {
   "cell_type": "code",
   "execution_count": 135,
   "metadata": {},
   "outputs": [
    {
     "name": "stdout",
     "output_type": "stream",
     "text": [
      "Oops. File Does'Nt Exist!\n",
      "Help on built-in function open in module io:\n",
      "\n",
      "open(file, mode='r', buffering=-1, encoding=None, errors=None, newline=None, closefd=True, opener=None)\n",
      "    Open file and return a stream.  Raise OSError upon failure.\n",
      "    \n",
      "    file is either a text or byte string giving the name (and the path\n",
      "    if the file isn't in the current working directory) of the file to\n",
      "    be opened or an integer file descriptor of the file to be\n",
      "    wrapped. (If a file descriptor is given, it is closed when the\n",
      "    returned I/O object is closed, unless closefd is set to False.)\n",
      "    \n",
      "    mode is an optional string that specifies the mode in which the file\n",
      "    is opened. It defaults to 'r' which means open for reading in text\n",
      "    mode.  Other common values are 'w' for writing (truncating the file if\n",
      "    it already exists), 'x' for creating and writing to a new file, and\n",
      "    'a' for appending (which on some Unix systems, means that all writes\n",
      "    append to the end of the file regardless of the current seek position).\n",
      "    In text mode, if encoding is not specified the encoding used is platform\n",
      "    dependent: locale.getpreferredencoding(False) is called to get the\n",
      "    current locale encoding. (For reading and writing raw bytes use binary\n",
      "    mode and leave encoding unspecified.) The available modes are:\n",
      "    \n",
      "    ========= ===============================================================\n",
      "    Character Meaning\n",
      "    --------- ---------------------------------------------------------------\n",
      "    'r'       open for reading (default)\n",
      "    'w'       open for writing, truncating the file first\n",
      "    'x'       create a new file and open it for writing\n",
      "    'a'       open for writing, appending to the end of the file if it exists\n",
      "    'b'       binary mode\n",
      "    't'       text mode (default)\n",
      "    '+'       open a disk file for updating (reading and writing)\n",
      "    'U'       universal newline mode (deprecated)\n",
      "    ========= ===============================================================\n",
      "    \n",
      "    The default mode is 'rt' (open for reading text). For binary random\n",
      "    access, the mode 'w+b' opens and truncates the file to 0 bytes, while\n",
      "    'r+b' opens the file without truncation. The 'x' mode implies 'w' and\n",
      "    raises an `FileExistsError` if the file already exists.\n",
      "    \n",
      "    Python distinguishes between files opened in binary and text modes,\n",
      "    even when the underlying operating system doesn't. Files opened in\n",
      "    binary mode (appending 'b' to the mode argument) return contents as\n",
      "    bytes objects without any decoding. In text mode (the default, or when\n",
      "    't' is appended to the mode argument), the contents of the file are\n",
      "    returned as strings, the bytes having been first decoded using a\n",
      "    platform-dependent encoding or using the specified encoding if given.\n",
      "    \n",
      "    'U' mode is deprecated and will raise an exception in future versions\n",
      "    of Python.  It has no effect in Python 3.  Use newline to control\n",
      "    universal newlines mode.\n",
      "    \n",
      "    buffering is an optional integer used to set the buffering policy.\n",
      "    Pass 0 to switch buffering off (only allowed in binary mode), 1 to select\n",
      "    line buffering (only usable in text mode), and an integer > 1 to indicate\n",
      "    the size of a fixed-size chunk buffer.  When no buffering argument is\n",
      "    given, the default buffering policy works as follows:\n",
      "    \n",
      "    * Binary files are buffered in fixed-size chunks; the size of the buffer\n",
      "      is chosen using a heuristic trying to determine the underlying device's\n",
      "      \"block size\" and falling back on `io.DEFAULT_BUFFER_SIZE`.\n",
      "      On many systems, the buffer will typically be 4096 or 8192 bytes long.\n",
      "    \n",
      "    * \"Interactive\" text files (files for which isatty() returns True)\n",
      "      use line buffering.  Other text files use the policy described above\n",
      "      for binary files.\n",
      "    \n",
      "    encoding is the name of the encoding used to decode or encode the\n",
      "    file. This should only be used in text mode. The default encoding is\n",
      "    platform dependent, but any encoding supported by Python can be\n",
      "    passed.  See the codecs module for the list of supported encodings.\n",
      "    \n",
      "    errors is an optional string that specifies how encoding errors are to\n",
      "    be handled---this argument should not be used in binary mode. Pass\n",
      "    'strict' to raise a ValueError exception if there is an encoding error\n",
      "    (the default of None has the same effect), or pass 'ignore' to ignore\n",
      "    errors. (Note that ignoring encoding errors can lead to data loss.)\n",
      "    See the documentation for codecs.register or run 'help(codecs.Codec)'\n",
      "    for a list of the permitted encoding error strings.\n",
      "    \n",
      "    newline controls how universal newlines works (it only applies to text\n",
      "    mode). It can be None, '', '\\n', '\\r', and '\\r\\n'.  It works as\n",
      "    follows:\n",
      "    \n",
      "    * On input, if newline is None, universal newlines mode is\n",
      "      enabled. Lines in the input can end in '\\n', '\\r', or '\\r\\n', and\n",
      "      these are translated into '\\n' before being returned to the\n",
      "      caller. If it is '', universal newline mode is enabled, but line\n",
      "      endings are returned to the caller untranslated. If it has any of\n",
      "      the other legal values, input lines are only terminated by the given\n",
      "      string, and the line ending is returned to the caller untranslated.\n",
      "    \n",
      "    * On output, if newline is None, any '\\n' characters written are\n",
      "      translated to the system default line separator, os.linesep. If\n",
      "      newline is '' or '\\n', no translation takes place. If newline is any\n",
      "      of the other legal values, any '\\n' characters written are translated\n",
      "      to the given string.\n",
      "    \n",
      "    If closefd is False, the underlying file descriptor will be kept open\n",
      "    when the file is closed. This does not work when a file name is given\n",
      "    and must be True in that case.\n",
      "    \n",
      "    A custom opener can be used by passing a callable as *opener*. The\n",
      "    underlying file descriptor for the file object is then obtained by\n",
      "    calling *opener* with (*file*, *flags*). *opener* must return an open\n",
      "    file descriptor (passing os.open as *opener* results in functionality\n",
      "    similar to passing None).\n",
      "    \n",
      "    open() returns a file object whose type depends on the mode, and\n",
      "    through which the standard file operations such as reading and writing\n",
      "    are performed. When open() is used to open a file in a text mode ('w',\n",
      "    'r', 'wt', 'rt', etc.), it returns a TextIOWrapper. When used to open\n",
      "    a file in a binary mode, the returned class varies: in read binary\n",
      "    mode, it returns a BufferedReader; in write binary and append binary\n",
      "    modes, it returns a BufferedWriter, and in read/write mode, it returns\n",
      "    a BufferedRandom.\n",
      "    \n",
      "    It is also possible to use a string or bytearray as a file for both\n",
      "    reading and writing. For strings StringIO can be used like a file\n",
      "    opened in a text mode, and for bytes a BytesIO can be used like a file\n",
      "    opened in a binary mode.\n",
      "\n",
      "None\n"
     ]
    }
   ],
   "source": [
    "import os\n",
    "\n",
    "# for remove fichier\n",
    "try:\n",
    "    os.remove('bla.txt')\n",
    "except FileNotFoundError:\n",
    "    print('oops. file does\\'nt exist!'.title())\n",
    "\n",
    "print(help(open))\n"
   ]
  },
  {
   "cell_type": "code",
   "execution_count": 110,
   "metadata": {},
   "outputs": [],
   "source": [
    "import timeit\n",
    "import time\n",
    "\n",
    "# 'default_number', 'default_repeat', 'default_timer',\n",
    "# 'dummy_src_name', 'gc', 'itertools', 'main', 'reindent',\n",
    "# 'repeat', 'sys', 'template', 'time', 'timeit'\n"
   ]
  },
  {
   "cell_type": "code",
   "execution_count": null,
   "metadata": {},
   "outputs": [],
   "source": [
    "# importing csv module to read data from csv file\n",
    "import csv\n",
    "\n",
    "# csv file name\n",
    "filename = 'py_pdf_hajji/employees.csv'\n",
    "\n",
    "# initializing the titles and rows list\n",
    "fields = []\n",
    "rows = []\n",
    "\n",
    "# reading csv file\n",
    "with open(filename, 'r') as csvfile:\n",
    "\t# creating a csv reader object\n",
    "\tcsvreader = csv.reader(csvfile)\n",
    "\n",
    "\t# extracting field names through first row\n",
    "\tfields = next(csvreader)\n",
    "\n",
    "\t# extracting each data row one by one\n",
    "\tfor row in csvreader:\n",
    "\t\trows.append(row)\n",
    "\n",
    "\t# get total number of rows\n",
    "\tprint(\"Total no. of rows: %d\" % (csvreader.line_num))\n",
    "\n",
    "# printing the field names\n",
    "print('Field names are: ' + ', '.join(field for field in fields))\n",
    "\n",
    "# printing first 5 rows\n",
    "print('\\nFirst 5 rows are:\\n')\n",
    "for row in rows[:5]:\n",
    "\t# parsing each column of a row\n",
    "\tfor col in row:\n",
    "\t\tprint(\"%10s\" % col),\n",
    "\tprint('\\n')\n"
   ]
  },
  {
   "cell_type": "code",
   "execution_count": 139,
   "metadata": {},
   "outputs": [],
   "source": [
    "# importing the csv module to set data in file csv\n",
    "import csv\n",
    "\n",
    "# field names\n",
    "fields = ['Name', 'Branch', 'Year', 'CGPA']\n",
    "\n",
    "# data rows of csv file\n",
    "rows = [['Nikhil', 'COE', '2', '9.0'],\n",
    "        ['Sanchit', 'COE', '2', '9.1'],\n",
    "        ['Aditya', 'IT', '2', '9.3'],\n",
    "        ['Sagar', 'SE', '1', '9.5'],\n",
    "        ['Prateek', 'MCE', '3', '7.8'],\n",
    "        ['Sahil', 'EP', '2', '9.1']]\n",
    "\n",
    "# name of csv file\n",
    "filename = \"university_records.csv\"\n",
    "\n",
    "# writing to csv file\n",
    "with open(filename, 'w') as csvfile:\n",
    "\t# creating a csv writer object\n",
    "\tcsvwriter = csv.writer(csvfile)\n",
    "\n",
    "\t# writing the fields\n",
    "\tcsvwriter.writerow(fields)\n",
    "\n",
    "\t# writing the data rows\n",
    "\tcsvwriter.writerows(rows)\n"
   ]
  },
  {
   "cell_type": "code",
   "execution_count": 140,
   "metadata": {},
   "outputs": [],
   "source": [
    "# importing the csv module now we using dictionary to write the data in file csv\n",
    "import csv\n",
    "\n",
    "# my data rows as dictionary objects\n",
    "mydict = [{'branch': 'COE', 'cgpa': '9.0', 'name': 'Nikhil', 'year': '2'},\n",
    "          {'branch': 'COE', 'cgpa': '9.1', 'name': 'Sanchit', 'year': '2'},\n",
    "          {'branch': 'IT', 'cgpa': '9.3', 'name': 'Aditya', 'year': '2'},\n",
    "          {'branch': 'SE', 'cgpa': '9.5', 'name': 'Sagar', 'year': '1'},\n",
    "          {'branch': 'MCE', 'cgpa': '7.8', 'name': 'Prateek', 'year': '3'},\n",
    "          {'branch': 'EP', 'cgpa': '9.1', 'name': 'Sahil', 'year': '2'}]\n",
    "\n",
    "# field names\n",
    "fields = ['name', 'branch', 'year', 'cgpa']\n",
    "\n",
    "# name of csv file\n",
    "filename = \"university_records2.csv\"\n",
    "\n",
    "# writing to csv file\n",
    "with open(filename, 'w') as csvfile:\n",
    "\t# creating a csv dict writer object\n",
    "\twriter = csv.DictWriter(csvfile, fieldnames=fields)\n",
    "\n",
    "\t# writing headers (field names)\n",
    "\twriter.writeheader()\n",
    "\n",
    "\t# writing data rows\n",
    "\twriter.writerows(mydict)\n"
   ]
  },
  {
   "cell_type": "code",
   "execution_count": 149,
   "metadata": {},
   "outputs": [
    {
     "name": "stdout",
     "output_type": "stream",
     "text": [
      "      name branch  year  cgpa\n",
      "0   Nikhil    COE     2   9.0\n",
      "1  Sanchit    COE     2   9.1\n",
      "2   Aditya     IT     2   9.3\n",
      "3    Sagar     SE     1   9.5\n",
      "4  Prateek    MCE     3   7.8\n",
      "5    Sahil     EP     2   9.1\n"
     ]
    }
   ],
   "source": [
    "import pandas\n",
    "\n",
    "# reading the CSV file\n",
    "# csvFile = pandas.read_csv('py_pdf_hajji/employees.csv')\n",
    "csvFile = pandas.read_csv('university_records2.csv')\n",
    "\n",
    "# displaying the contents of the CSV file\n",
    "print(csvFile)\n"
   ]
  },
  {
   "cell_type": "code",
   "execution_count": null,
   "metadata": {},
   "outputs": [],
   "source": [
    "help(__builtins__)"
   ]
  }
 ],
 "metadata": {
  "kernelspec": {
   "display_name": "Python 3.9.12 ('base')",
   "language": "python",
   "name": "python3"
  },
  "language_info": {
   "codemirror_mode": {
    "name": "ipython",
    "version": 3
   },
   "file_extension": ".py",
   "mimetype": "text/x-python",
   "name": "python",
   "nbconvert_exporter": "python",
   "pygments_lexer": "ipython3",
   "version": "3.9.12"
  },
  "orig_nbformat": 4,
  "vscode": {
   "interpreter": {
    "hash": "c82ca2ff9c41620b5fcdc7e3462bd8c38e385ed8f7226d92af92861dcda312b5"
   }
  }
 },
 "nbformat": 4,
 "nbformat_minor": 2
}
